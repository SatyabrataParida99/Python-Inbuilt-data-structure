{
 "cells": [
  {
   "cell_type": "markdown",
   "id": "adcc19d9-7cef-4ec9-a2d0-4906a60a58fd",
   "metadata": {},
   "source": [
    "# 27th Sep - List"
   ]
  },
  {
   "cell_type": "code",
   "execution_count": 7,
   "id": "c09e847c-4b24-4ea1-8dbb-4737e5f3e153",
   "metadata": {},
   "outputs": [
    {
     "data": {
      "text/plain": [
       "[]"
      ]
     },
     "execution_count": 7,
     "metadata": {},
     "output_type": "execute_result"
    }
   ],
   "source": [
    "l = []\n",
    "l"
   ]
  },
  {
   "cell_type": "code",
   "execution_count": 11,
   "id": "9d1c44d7-123e-408a-8f23-fa7f288501c5",
   "metadata": {},
   "outputs": [
    {
     "data": {
      "text/plain": [
       "[]"
      ]
     },
     "execution_count": 11,
     "metadata": {},
     "output_type": "execute_result"
    }
   ],
   "source": [
    "l1 = list()\n",
    "l1"
   ]
  },
  {
   "cell_type": "code",
   "execution_count": 13,
   "id": "326df078-b0f1-4d8b-bc06-879e50d48837",
   "metadata": {},
   "outputs": [
    {
     "data": {
      "text/plain": [
       "list"
      ]
     },
     "execution_count": 13,
     "metadata": {},
     "output_type": "execute_result"
    }
   ],
   "source": [
    "type(l)"
   ]
  },
  {
   "cell_type": "code",
   "execution_count": 242,
   "id": "f07399c3-4e03-4e13-93d0-5320b967d848",
   "metadata": {},
   "outputs": [
    {
     "data": {
      "text/plain": [
       "list"
      ]
     },
     "execution_count": 242,
     "metadata": {},
     "output_type": "execute_result"
    }
   ],
   "source": [
    "type(l1)"
   ]
  },
  {
   "cell_type": "code",
   "execution_count": 244,
   "id": "93a65ca6-31fe-4616-8728-98e5c7c0bb64",
   "metadata": {},
   "outputs": [
    {
     "data": {
      "text/plain": [
       "0"
      ]
     },
     "execution_count": 244,
     "metadata": {},
     "output_type": "execute_result"
    }
   ],
   "source": [
    "len(l)"
   ]
  },
  {
   "cell_type": "code",
   "execution_count": 246,
   "id": "a152558c-7456-47a2-9dcc-e95a6a9a86e0",
   "metadata": {},
   "outputs": [
    {
     "data": {
      "text/plain": [
       "0"
      ]
     },
     "execution_count": 246,
     "metadata": {},
     "output_type": "execute_result"
    }
   ],
   "source": [
    "len(l1)"
   ]
  },
  {
   "cell_type": "code",
   "execution_count": 248,
   "id": "e9c6256c-19da-4966-a97f-37fae71b70ed",
   "metadata": {},
   "outputs": [
    {
     "data": {
      "text/plain": [
       "[]"
      ]
     },
     "execution_count": 248,
     "metadata": {},
     "output_type": "execute_result"
    }
   ],
   "source": [
    "l"
   ]
  },
  {
   "cell_type": "code",
   "execution_count": 250,
   "id": "9f074735-abcf-4ab3-a332-2a50f16ee8d6",
   "metadata": {},
   "outputs": [],
   "source": [
    "l.append(10)"
   ]
  },
  {
   "cell_type": "code",
   "execution_count": 252,
   "id": "d5fe51d2-4ca8-454c-a8f7-a8203c2a732a",
   "metadata": {},
   "outputs": [
    {
     "data": {
      "text/plain": [
       "[10]"
      ]
     },
     "execution_count": 252,
     "metadata": {},
     "output_type": "execute_result"
    }
   ],
   "source": [
    "l"
   ]
  },
  {
   "cell_type": "code",
   "execution_count": 254,
   "id": "f728f1a7-2b55-4c5b-979c-77b53843445d",
   "metadata": {},
   "outputs": [
    {
     "data": {
      "text/plain": [
       "1"
      ]
     },
     "execution_count": 254,
     "metadata": {},
     "output_type": "execute_result"
    }
   ],
   "source": [
    "len(l)"
   ]
  },
  {
   "cell_type": "code",
   "execution_count": 256,
   "id": "2ee4272e-bf8b-472c-8e35-fc0793a8dce6",
   "metadata": {},
   "outputs": [],
   "source": [
    "l.append(20)\n",
    "l.append(30)\n",
    "l.append(40)\n",
    "l.append(50)"
   ]
  },
  {
   "cell_type": "code",
   "execution_count": 258,
   "id": "25d5df15-c141-47ae-b6dc-38feffb26565",
   "metadata": {},
   "outputs": [
    {
     "data": {
      "text/plain": [
       "[10, 20, 30, 40, 50]"
      ]
     },
     "execution_count": 258,
     "metadata": {},
     "output_type": "execute_result"
    }
   ],
   "source": [
    "l"
   ]
  },
  {
   "cell_type": "code",
   "execution_count": 260,
   "id": "3f6b084a-8131-4edb-a307-70ac2c7e4fec",
   "metadata": {},
   "outputs": [
    {
     "data": {
      "text/plain": [
       "5"
      ]
     },
     "execution_count": 260,
     "metadata": {},
     "output_type": "execute_result"
    }
   ],
   "source": [
    "len(l)"
   ]
  },
  {
   "cell_type": "code",
   "execution_count": 262,
   "id": "69c4a03b-ae78-4de0-b96f-cfdc0d5589c7",
   "metadata": {},
   "outputs": [
    {
     "data": {
      "text/plain": [
       "[]"
      ]
     },
     "execution_count": 262,
     "metadata": {},
     "output_type": "execute_result"
    }
   ],
   "source": [
    "l1"
   ]
  },
  {
   "cell_type": "code",
   "execution_count": 17,
   "id": "7e622c70-af8b-4e8f-bd80-b0cadb756857",
   "metadata": {},
   "outputs": [],
   "source": [
    "l1.append(2.3)\n",
    "l1.append(True)\n",
    "l1.append('10')\n",
    "l1.append(1+2j)"
   ]
  },
  {
   "cell_type": "code",
   "execution_count": 19,
   "id": "2a8b5dd8-97ca-4b8d-9434-2b0d17d70676",
   "metadata": {},
   "outputs": [
    {
     "data": {
      "text/plain": [
       "[2.3, True, '10', (1+2j)]"
      ]
     },
     "execution_count": 19,
     "metadata": {},
     "output_type": "execute_result"
    }
   ],
   "source": [
    "l1"
   ]
  },
  {
   "cell_type": "code",
   "execution_count": 268,
   "id": "67e6b711-7a0b-463d-907f-8965c0cda994",
   "metadata": {},
   "outputs": [
    {
     "data": {
      "text/plain": [
       "[10, 20, 30, 40, 50]"
      ]
     },
     "execution_count": 268,
     "metadata": {},
     "output_type": "execute_result"
    }
   ],
   "source": [
    "l"
   ]
  },
  {
   "cell_type": "code",
   "execution_count": 19,
   "id": "5717dab2-c2c6-4b60-9da4-edd951806aa2",
   "metadata": {},
   "outputs": [],
   "source": [
    "l1.append(2.3)"
   ]
  },
  {
   "cell_type": "code",
   "execution_count": 270,
   "id": "64ca6804-5d35-4f8c-9238-555cc29362fd",
   "metadata": {},
   "outputs": [
    {
     "data": {
      "text/plain": [
       "[2.3, True, '10', (1+2j)]"
      ]
     },
     "execution_count": 270,
     "metadata": {},
     "output_type": "execute_result"
    }
   ],
   "source": [
    "l1"
   ]
  },
  {
   "cell_type": "code",
   "execution_count": 23,
   "id": "8016fefa-155f-4765-b5c1-d83e8eb0b7d2",
   "metadata": {},
   "outputs": [],
   "source": [
    "l2 = l1.copy() # Copy function"
   ]
  },
  {
   "cell_type": "code",
   "execution_count": 25,
   "id": "23a3b508-dad6-46f7-b80c-2705532f5bd7",
   "metadata": {},
   "outputs": [
    {
     "data": {
      "text/plain": [
       "[2.3, True, '10', (1+2j)]"
      ]
     },
     "execution_count": 25,
     "metadata": {},
     "output_type": "execute_result"
    }
   ],
   "source": [
    "l2"
   ]
  },
  {
   "cell_type": "code",
   "execution_count": 276,
   "id": "3d46c08a-50d3-47e9-90f0-9949eb8e8258",
   "metadata": {},
   "outputs": [
    {
     "data": {
      "text/plain": [
       "[2.3, True, '10', (1+2j)]"
      ]
     },
     "execution_count": 276,
     "metadata": {},
     "output_type": "execute_result"
    }
   ],
   "source": [
    "l1"
   ]
  },
  {
   "cell_type": "code",
   "execution_count": 278,
   "id": "f2688544-7ca7-4535-9c59-d751a0d40c5b",
   "metadata": {},
   "outputs": [
    {
     "data": {
      "text/plain": [
       "True"
      ]
     },
     "execution_count": 278,
     "metadata": {},
     "output_type": "execute_result"
    }
   ],
   "source": [
    "l1 == l2"
   ]
  },
  {
   "cell_type": "code",
   "execution_count": 280,
   "id": "b562631e-e2d1-4175-91e0-eba601e53f95",
   "metadata": {},
   "outputs": [
    {
     "data": {
      "text/plain": [
       "False"
      ]
     },
     "execution_count": 280,
     "metadata": {},
     "output_type": "execute_result"
    }
   ],
   "source": [
    "l == l2"
   ]
  },
  {
   "cell_type": "code",
   "execution_count": 282,
   "id": "cef0b6d9-6c4f-4bf3-9545-0d44c304a17f",
   "metadata": {},
   "outputs": [
    {
     "data": {
      "text/plain": [
       "[10, 20, 30, 40, 50]"
      ]
     },
     "execution_count": 282,
     "metadata": {},
     "output_type": "execute_result"
    }
   ],
   "source": [
    "l"
   ]
  },
  {
   "cell_type": "code",
   "execution_count": 27,
   "id": "4f4552e6-e4b0-4dc7-b651-8637c09ade26",
   "metadata": {},
   "outputs": [
    {
     "data": {
      "text/plain": [
       "[2.3, True, '10', (1+2j)]"
      ]
     },
     "execution_count": 27,
     "metadata": {},
     "output_type": "execute_result"
    }
   ],
   "source": [
    "l2"
   ]
  },
  {
   "cell_type": "code",
   "execution_count": 286,
   "id": "83d2b175-fdc6-4697-9f12-5be66bea9f3c",
   "metadata": {},
   "outputs": [],
   "source": [
    "l2.clear() # Clear function"
   ]
  },
  {
   "cell_type": "code",
   "execution_count": 288,
   "id": "de25f356-0ce3-4d5e-9227-994779f89b78",
   "metadata": {},
   "outputs": [
    {
     "data": {
      "text/plain": [
       "0"
      ]
     },
     "execution_count": 288,
     "metadata": {},
     "output_type": "execute_result"
    }
   ],
   "source": [
    "len(l2)"
   ]
  },
  {
   "cell_type": "code",
   "execution_count": 290,
   "id": "6ae75e62-fd86-4a2d-a1d0-eb07f6f0c62b",
   "metadata": {},
   "outputs": [],
   "source": [
    "l2.clear()"
   ]
  },
  {
   "cell_type": "code",
   "execution_count": 292,
   "id": "267d2a37-6a14-4c9d-b2a7-ada577d3e35d",
   "metadata": {},
   "outputs": [
    {
     "data": {
      "text/plain": [
       "0"
      ]
     },
     "execution_count": 292,
     "metadata": {},
     "output_type": "execute_result"
    }
   ],
   "source": [
    "len(l2)"
   ]
  },
  {
   "cell_type": "code",
   "execution_count": 29,
   "id": "8b7551c8-c09c-47cb-adbc-d9d49d6fb2fc",
   "metadata": {},
   "outputs": [],
   "source": [
    "l2.append(90)\n",
    "l2.append(8.9)\n",
    "l2.append('hi')\n",
    "l2.append(False)\n",
    "l2.append(1+2j)"
   ]
  },
  {
   "cell_type": "code",
   "execution_count": 296,
   "id": "d6a309d5-d0f0-49a2-92f9-9ea15fde8156",
   "metadata": {},
   "outputs": [
    {
     "name": "stdout",
     "output_type": "stream",
     "text": [
      "[10, 20, 30, 40, 50]\n",
      "[2.3, True, '10', (1+2j)]\n",
      "[90, 8.9, 'hi', False, (1+2j)]\n"
     ]
    }
   ],
   "source": [
    "print(l)\n",
    "print(l1)\n",
    "print(l2)"
   ]
  },
  {
   "cell_type": "code",
   "execution_count": 298,
   "id": "ada375b9-7dc5-48a5-8eac-87009f35cb39",
   "metadata": {},
   "outputs": [
    {
     "ename": "SyntaxError",
     "evalue": "invalid syntax (433413126.py, line 1)",
     "output_type": "error",
     "traceback": [
      "\u001b[1;36m  Cell \u001b[1;32mIn[298], line 1\u001b[1;36m\u001b[0m\n\u001b[1;33m    l.\u001b[0m\n\u001b[1;37m      ^\u001b[0m\n\u001b[1;31mSyntaxError\u001b[0m\u001b[1;31m:\u001b[0m invalid syntax\n"
     ]
    }
   ],
   "source": [
    "l."
   ]
  },
  {
   "cell_type": "code",
   "execution_count": 300,
   "id": "b6857c1e-3b39-4ac6-8907-6ccced72f7ae",
   "metadata": {},
   "outputs": [
    {
     "data": {
      "text/plain": [
       "[2.3, True, '10', (1+2j)]"
      ]
     },
     "execution_count": 300,
     "metadata": {},
     "output_type": "execute_result"
    }
   ],
   "source": [
    "l1"
   ]
  },
  {
   "cell_type": "code",
   "execution_count": 302,
   "id": "0ab8b3b4-5eb1-4313-8e79-9e9a0a2539ed",
   "metadata": {},
   "outputs": [
    {
     "data": {
      "text/plain": [
       "40"
      ]
     },
     "execution_count": 302,
     "metadata": {},
     "output_type": "execute_result"
    }
   ],
   "source": [
    "l[3]"
   ]
  },
  {
   "cell_type": "code",
   "execution_count": 314,
   "id": "adf95a9c-f9fe-4d0e-a60a-cfc09e23164d",
   "metadata": {},
   "outputs": [
    {
     "data": {
      "text/plain": [
       "['10', (1+2j)]"
      ]
     },
     "execution_count": 314,
     "metadata": {},
     "output_type": "execute_result"
    }
   ],
   "source": [
    "l1[2:]"
   ]
  },
  {
   "cell_type": "code",
   "execution_count": 316,
   "id": "8f942c59-fb75-4ce4-b4e7-78198689ab21",
   "metadata": {},
   "outputs": [
    {
     "data": {
      "text/plain": [
       "[2.3, True, '10', (1+2j)]"
      ]
     },
     "execution_count": 316,
     "metadata": {},
     "output_type": "execute_result"
    }
   ],
   "source": [
    "l1[:4]"
   ]
  },
  {
   "cell_type": "code",
   "execution_count": 318,
   "id": "0d572565-ee4a-4c25-a7c6-5733bfe53042",
   "metadata": {},
   "outputs": [
    {
     "data": {
      "text/plain": [
       "[90, 8.9, 'hi', False, (1+2j)]"
      ]
     },
     "execution_count": 318,
     "metadata": {},
     "output_type": "execute_result"
    }
   ],
   "source": [
    "l2"
   ]
  },
  {
   "cell_type": "code",
   "execution_count": 310,
   "id": "78174c1f-5e1d-4f53-9915-62dc1d3debd5",
   "metadata": {},
   "outputs": [
    {
     "data": {
      "text/plain": [
       "[90, 8.9, 'hi', False, (1+2j)]"
      ]
     },
     "execution_count": 310,
     "metadata": {},
     "output_type": "execute_result"
    }
   ],
   "source": [
    "l2[0:10]"
   ]
  },
  {
   "cell_type": "code",
   "execution_count": 312,
   "id": "78f18e16-56cd-438c-bc9e-2592c8ea9ba0",
   "metadata": {},
   "outputs": [
    {
     "data": {
      "text/plain": [
       "[90, 8.9, 'hi']"
      ]
     },
     "execution_count": 312,
     "metadata": {},
     "output_type": "execute_result"
    }
   ],
   "source": [
    "l2[0:3]"
   ]
  },
  {
   "cell_type": "code",
   "execution_count": 320,
   "id": "92afdc77-8af1-4438-b002-aa8f8e2a78ad",
   "metadata": {},
   "outputs": [
    {
     "data": {
      "text/plain": [
       "[90, 8.9, 'hi', False, (1+2j)]"
      ]
     },
     "execution_count": 320,
     "metadata": {},
     "output_type": "execute_result"
    }
   ],
   "source": [
    "l2"
   ]
  },
  {
   "cell_type": "code",
   "execution_count": 322,
   "id": "3815daa6-4849-45f4-8426-9344d50c7494",
   "metadata": {},
   "outputs": [
    {
     "data": {
      "text/plain": [
       "[90, 8.9, 'hi']"
      ]
     },
     "execution_count": 322,
     "metadata": {},
     "output_type": "execute_result"
    }
   ],
   "source": [
    "l2[:-2]"
   ]
  },
  {
   "cell_type": "code",
   "execution_count": 324,
   "id": "8cd5347e-fd97-4537-a702-88f8af377b7e",
   "metadata": {},
   "outputs": [
    {
     "data": {
      "text/plain": [
       "[90, 8.9, 'hi', False, (1+2j)]"
      ]
     },
     "execution_count": 324,
     "metadata": {},
     "output_type": "execute_result"
    }
   ],
   "source": [
    "l2"
   ]
  },
  {
   "cell_type": "code",
   "execution_count": 326,
   "id": "96e0a422-6357-453b-a365-78c94d029d80",
   "metadata": {},
   "outputs": [
    {
     "data": {
      "text/plain": [
       "[8.9, 'hi', False, (1+2j)]"
      ]
     },
     "execution_count": 326,
     "metadata": {},
     "output_type": "execute_result"
    }
   ],
   "source": [
    "l2[-4:]"
   ]
  },
  {
   "cell_type": "code",
   "execution_count": 328,
   "id": "074ee45e-8ae1-467f-9e72-3e41558ed9eb",
   "metadata": {},
   "outputs": [
    {
     "data": {
      "text/plain": [
       "[10, 20, 30, 40, 50]"
      ]
     },
     "execution_count": 328,
     "metadata": {},
     "output_type": "execute_result"
    }
   ],
   "source": [
    "l"
   ]
  },
  {
   "cell_type": "code",
   "execution_count": 330,
   "id": "27afffd9-ff87-4f2b-b2bc-546df529e692",
   "metadata": {},
   "outputs": [
    {
     "data": {
      "text/plain": [
       "[10, 20, 30, 40]"
      ]
     },
     "execution_count": 330,
     "metadata": {},
     "output_type": "execute_result"
    }
   ],
   "source": [
    "l[:-1]"
   ]
  },
  {
   "cell_type": "code",
   "execution_count": 332,
   "id": "3409dddb-d60f-483e-9d66-53be9e686cf1",
   "metadata": {},
   "outputs": [
    {
     "data": {
      "text/plain": [
       "[20, 30, 40, 50]"
      ]
     },
     "execution_count": 332,
     "metadata": {},
     "output_type": "execute_result"
    }
   ],
   "source": [
    "l[-4:]"
   ]
  },
  {
   "cell_type": "code",
   "execution_count": 334,
   "id": "f6aee363-49ea-44ab-8464-997c059e72a8",
   "metadata": {},
   "outputs": [
    {
     "data": {
      "text/plain": [
       "[90, 8.9, 'hi', False, (1+2j)]"
      ]
     },
     "execution_count": 334,
     "metadata": {},
     "output_type": "execute_result"
    }
   ],
   "source": [
    "l2"
   ]
  },
  {
   "cell_type": "code",
   "execution_count": 336,
   "id": "e02b73eb-28c3-4762-b0b8-4e9e0316de7e",
   "metadata": {},
   "outputs": [
    {
     "data": {
      "text/plain": [
       "[(1+2j), False, 'hi', 8.9, 90]"
      ]
     },
     "execution_count": 336,
     "metadata": {},
     "output_type": "execute_result"
    }
   ],
   "source": [
    "l2[::-1]"
   ]
  },
  {
   "cell_type": "code",
   "execution_count": 338,
   "id": "8d88afca-9738-4548-8d3a-e1ea58ce03ca",
   "metadata": {},
   "outputs": [
    {
     "data": {
      "text/plain": [
       "[(1+2j), 'hi', 90]"
      ]
     },
     "execution_count": 338,
     "metadata": {},
     "output_type": "execute_result"
    }
   ],
   "source": [
    "l2[::-2]"
   ]
  },
  {
   "cell_type": "code",
   "execution_count": 340,
   "id": "9094cace-9fac-418a-97af-45862565d98c",
   "metadata": {},
   "outputs": [
    {
     "data": {
      "text/plain": [
       "[10, 30, 50]"
      ]
     },
     "execution_count": 340,
     "metadata": {},
     "output_type": "execute_result"
    }
   ],
   "source": [
    "l[::2]"
   ]
  },
  {
   "cell_type": "code",
   "execution_count": 342,
   "id": "203c9e1e-01ac-4ea4-ba59-817efd607319",
   "metadata": {},
   "outputs": [
    {
     "data": {
      "text/plain": [
       "[50, 30, 10]"
      ]
     },
     "execution_count": 342,
     "metadata": {},
     "output_type": "execute_result"
    }
   ],
   "source": [
    "l[::-2]"
   ]
  },
  {
   "cell_type": "code",
   "execution_count": 344,
   "id": "da7c102f-cc6d-41c2-b100-33a8b4f71136",
   "metadata": {},
   "outputs": [
    {
     "data": {
      "text/plain": [
       "[50, 20]"
      ]
     },
     "execution_count": 344,
     "metadata": {},
     "output_type": "execute_result"
    }
   ],
   "source": [
    "l[::-3]"
   ]
  },
  {
   "cell_type": "code",
   "execution_count": 346,
   "id": "849a6fb5-15cc-4929-9824-2d2cdd33eebc",
   "metadata": {},
   "outputs": [
    {
     "data": {
      "text/plain": [
       "1"
      ]
     },
     "execution_count": 346,
     "metadata": {},
     "output_type": "execute_result"
    }
   ],
   "source": [
    "l1.count('10') # Count function "
   ]
  },
  {
   "cell_type": "code",
   "execution_count": 348,
   "id": "fe02df99-0781-4744-b50d-3dc6b17a1982",
   "metadata": {},
   "outputs": [
    {
     "data": {
      "text/plain": [
       "1"
      ]
     },
     "execution_count": 348,
     "metadata": {},
     "output_type": "execute_result"
    }
   ],
   "source": [
    "l1.count(2.3)"
   ]
  },
  {
   "cell_type": "code",
   "execution_count": 350,
   "id": "2c90bf8a-6b2d-426c-bcab-c7b47a39ffd6",
   "metadata": {},
   "outputs": [
    {
     "data": {
      "text/plain": [
       "0"
      ]
     },
     "execution_count": 350,
     "metadata": {},
     "output_type": "execute_result"
    }
   ],
   "source": [
    "l1.count(50)"
   ]
  },
  {
   "cell_type": "code",
   "execution_count": 352,
   "id": "41c75fea-7ed0-4965-97fc-b0f7346cd5e5",
   "metadata": {},
   "outputs": [
    {
     "data": {
      "text/plain": [
       "0"
      ]
     },
     "execution_count": 352,
     "metadata": {},
     "output_type": "execute_result"
    }
   ],
   "source": [
    "l1.index(2.3) #index function"
   ]
  },
  {
   "cell_type": "code",
   "execution_count": 354,
   "id": "53443934-351b-4656-a3bd-b075476f2a25",
   "metadata": {},
   "outputs": [
    {
     "data": {
      "text/plain": [
       "1"
      ]
     },
     "execution_count": 354,
     "metadata": {},
     "output_type": "execute_result"
    }
   ],
   "source": [
    "l1.index(True)"
   ]
  },
  {
   "cell_type": "code",
   "execution_count": 356,
   "id": "9b644a28-b29e-48a1-aaad-7f454e1d8444",
   "metadata": {},
   "outputs": [
    {
     "data": {
      "text/plain": [
       "[2.3, True, '10', (1+2j)]"
      ]
     },
     "execution_count": 356,
     "metadata": {},
     "output_type": "execute_result"
    }
   ],
   "source": [
    "l1"
   ]
  },
  {
   "cell_type": "code",
   "execution_count": 360,
   "id": "44645a0f-3629-451c-908e-e92083dec8ee",
   "metadata": {},
   "outputs": [],
   "source": [
    "l1.remove(2.3) #Remove function"
   ]
  },
  {
   "cell_type": "code",
   "execution_count": 358,
   "id": "b80b6474-b9d8-490f-8d47-17b8970ffaa4",
   "metadata": {},
   "outputs": [
    {
     "data": {
      "text/plain": [
       "[2.3, True, '10', (1+2j)]"
      ]
     },
     "execution_count": 358,
     "metadata": {},
     "output_type": "execute_result"
    }
   ],
   "source": [
    "l1"
   ]
  },
  {
   "cell_type": "code",
   "execution_count": 362,
   "id": "0056944c-ed5c-4843-ac82-ff2f9ab9b8aa",
   "metadata": {},
   "outputs": [
    {
     "data": {
      "text/plain": [
       "[True, '10', (1+2j)]"
      ]
     },
     "execution_count": 362,
     "metadata": {},
     "output_type": "execute_result"
    }
   ],
   "source": [
    "l1"
   ]
  },
  {
   "cell_type": "code",
   "execution_count": 364,
   "id": "2275e425-1649-4c8b-952d-55d0feb7ad3e",
   "metadata": {},
   "outputs": [
    {
     "data": {
      "text/plain": [
       "[90, 8.9, 'hi', False, (1+2j)]"
      ]
     },
     "execution_count": 364,
     "metadata": {},
     "output_type": "execute_result"
    }
   ],
   "source": [
    "l2"
   ]
  },
  {
   "cell_type": "code",
   "execution_count": 366,
   "id": "f7692ee2-edf3-4579-9e64-ecc629680938",
   "metadata": {},
   "outputs": [
    {
     "data": {
      "text/plain": [
       "[10, 20, 30, 40, 50]"
      ]
     },
     "execution_count": 366,
     "metadata": {},
     "output_type": "execute_result"
    }
   ],
   "source": [
    "l"
   ]
  },
  {
   "cell_type": "code",
   "execution_count": 368,
   "id": "d321b521-1aa0-4121-afc3-875a1bdad388",
   "metadata": {},
   "outputs": [
    {
     "data": {
      "text/plain": [
       "(1+2j)"
      ]
     },
     "execution_count": 368,
     "metadata": {},
     "output_type": "execute_result"
    }
   ],
   "source": [
    "l2.pop(4) # pop function"
   ]
  },
  {
   "cell_type": "code",
   "execution_count": 370,
   "id": "695e89ec-f8a7-4fc6-a82a-cc470700ac15",
   "metadata": {},
   "outputs": [
    {
     "data": {
      "text/plain": [
       "[True, '10', (1+2j)]"
      ]
     },
     "execution_count": 370,
     "metadata": {},
     "output_type": "execute_result"
    }
   ],
   "source": [
    "l1"
   ]
  },
  {
   "cell_type": "code",
   "execution_count": 372,
   "id": "37641a2c-d1d4-408a-bd7d-6a90e8a2de89",
   "metadata": {},
   "outputs": [
    {
     "data": {
      "text/plain": [
       "[10, 20, 30, 40, 50]"
      ]
     },
     "execution_count": 372,
     "metadata": {},
     "output_type": "execute_result"
    }
   ],
   "source": [
    "l"
   ]
  },
  {
   "cell_type": "code",
   "execution_count": 374,
   "id": "73a0eaaf-b26c-4379-b3cd-61227e3c77ff",
   "metadata": {},
   "outputs": [
    {
     "data": {
      "text/plain": [
       "[True, '10', (1+2j)]"
      ]
     },
     "execution_count": 374,
     "metadata": {},
     "output_type": "execute_result"
    }
   ],
   "source": [
    "l1"
   ]
  },
  {
   "cell_type": "code",
   "execution_count": null,
   "id": "36474852-eb5b-42d5-8e64-7dc6ff537370",
   "metadata": {},
   "outputs": [],
   "source": [
    "l2"
   ]
  },
  {
   "cell_type": "code",
   "execution_count": null,
   "id": "d415906d-66de-4f5d-9ae6-93666fb6e61e",
   "metadata": {},
   "outputs": [],
   "source": [
    "l1.extend(l2) # extend function"
   ]
  },
  {
   "cell_type": "code",
   "execution_count": 376,
   "id": "8e93185f-4644-4967-aacd-5b08f9680e89",
   "metadata": {},
   "outputs": [
    {
     "data": {
      "text/plain": [
       "[True, '10', (1+2j)]"
      ]
     },
     "execution_count": 376,
     "metadata": {},
     "output_type": "execute_result"
    }
   ],
   "source": [
    "l1"
   ]
  },
  {
   "cell_type": "code",
   "execution_count": 378,
   "id": "b77b4624-d64c-4f98-a066-192f5649c12a",
   "metadata": {},
   "outputs": [
    {
     "data": {
      "text/plain": [
       "4"
      ]
     },
     "execution_count": 378,
     "metadata": {},
     "output_type": "execute_result"
    }
   ],
   "source": [
    "len(l2)"
   ]
  },
  {
   "cell_type": "code",
   "execution_count": 39,
   "id": "bdd5a182-5c27-4431-8e67-e394344eaee2",
   "metadata": {},
   "outputs": [],
   "source": [
    "l2.extend(l)"
   ]
  },
  {
   "cell_type": "code",
   "execution_count": 41,
   "id": "ef9af10f-3080-4fb3-aed0-9b8c21a36254",
   "metadata": {},
   "outputs": [
    {
     "data": {
      "text/plain": [
       "[2.3, True, '10', (1+2j), 90, 8.9, 'hi', False, (1+2j)]"
      ]
     },
     "execution_count": 41,
     "metadata": {},
     "output_type": "execute_result"
    }
   ],
   "source": [
    "l2"
   ]
  },
  {
   "cell_type": "code",
   "execution_count": 43,
   "id": "91904a9d-062c-42b1-9657-7cca46b9e00c",
   "metadata": {},
   "outputs": [
    {
     "ename": "TypeError",
     "evalue": "insert expected 2 arguments, got 1",
     "output_type": "error",
     "traceback": [
      "\u001b[1;31m---------------------------------------------------------------------------\u001b[0m",
      "\u001b[1;31mTypeError\u001b[0m                                 Traceback (most recent call last)",
      "Cell \u001b[1;32mIn[43], line 1\u001b[0m\n\u001b[1;32m----> 1\u001b[0m l\u001b[38;5;241m.\u001b[39minsert(\u001b[38;5;241m1\u001b[39m)\n",
      "\u001b[1;31mTypeError\u001b[0m: insert expected 2 arguments, got 1"
     ]
    }
   ],
   "source": [
    "l.insert(1)"
   ]
  },
  {
   "cell_type": "code",
   "execution_count": 45,
   "id": "3c6d9708-a538-4d61-a0fc-669c5f8eb183",
   "metadata": {},
   "outputs": [],
   "source": [
    "l.insert(1,15) # insert function "
   ]
  },
  {
   "cell_type": "code",
   "execution_count": 394,
   "id": "127e2d59-3089-4ad7-9f77-61bdbe103694",
   "metadata": {},
   "outputs": [
    {
     "data": {
      "text/plain": [
       "[10, 15, 20, 30, 40, 50]"
      ]
     },
     "execution_count": 394,
     "metadata": {},
     "output_type": "execute_result"
    }
   ],
   "source": [
    "l"
   ]
  },
  {
   "cell_type": "code",
   "execution_count": 406,
   "id": "846f600b-8dd9-4987-8eef-12decd2686ba",
   "metadata": {},
   "outputs": [
    {
     "ename": "SyntaxError",
     "evalue": "invalid syntax (589079237.py, line 1)",
     "output_type": "error",
     "traceback": [
      "\u001b[1;36m  Cell \u001b[1;32mIn[406], line 1\u001b[1;36m\u001b[0m\n\u001b[1;33m    l1.reverse() reverse function\u001b[0m\n\u001b[1;37m                 ^\u001b[0m\n\u001b[1;31mSyntaxError\u001b[0m\u001b[1;31m:\u001b[0m invalid syntax\n"
     ]
    }
   ],
   "source": [
    "l1.reverse() reverse function "
   ]
  },
  {
   "cell_type": "code",
   "execution_count": 408,
   "id": "ec571999-a4d3-4cc6-bf28-fb8cce9eadaa",
   "metadata": {},
   "outputs": [
    {
     "data": {
      "text/plain": [
       "[True, '10', (1+2j)]"
      ]
     },
     "execution_count": 408,
     "metadata": {},
     "output_type": "execute_result"
    }
   ],
   "source": [
    "l1"
   ]
  },
  {
   "cell_type": "code",
   "execution_count": 410,
   "id": "1eebd3f3-2a1c-4485-91b1-059bcedd4d49",
   "metadata": {},
   "outputs": [
    {
     "data": {
      "text/plain": [
       "[20, 200, 1, 10, 50, 3, 46]"
      ]
     },
     "execution_count": 410,
     "metadata": {},
     "output_type": "execute_result"
    }
   ],
   "source": [
    "l3 = [20, 200, 1, 10, 50, 3, 46]\n",
    "l3"
   ]
  },
  {
   "cell_type": "code",
   "execution_count": null,
   "id": "d6667746-9fac-482e-87f9-6b7cb1088731",
   "metadata": {},
   "outputs": [],
   "source": [
    "l3.sort()"
   ]
  },
  {
   "cell_type": "code",
   "execution_count": 412,
   "id": "5fb4c1f7-4664-4c15-837e-c0c83ebe8b23",
   "metadata": {},
   "outputs": [
    {
     "data": {
      "text/plain": [
       "[20, 200, 1, 10, 50, 3, 46]"
      ]
     },
     "execution_count": 412,
     "metadata": {},
     "output_type": "execute_result"
    }
   ],
   "source": [
    "l3"
   ]
  },
  {
   "cell_type": "code",
   "execution_count": 47,
   "id": "35a1b706-d55d-43c9-80b9-6aee44a0489d",
   "metadata": {},
   "outputs": [
    {
     "ename": "TypeError",
     "evalue": "'<' not supported between instances of 'str' and 'int'",
     "output_type": "error",
     "traceback": [
      "\u001b[1;31m---------------------------------------------------------------------------\u001b[0m",
      "\u001b[1;31mTypeError\u001b[0m                                 Traceback (most recent call last)",
      "Cell \u001b[1;32mIn[47], line 2\u001b[0m\n\u001b[0;32m      1\u001b[0m l4 \u001b[38;5;241m=\u001b[39m [\u001b[38;5;241m2\u001b[39m, \u001b[38;5;124m'\u001b[39m\u001b[38;5;124ma\u001b[39m\u001b[38;5;124m'\u001b[39m, \u001b[38;5;28;01mTrue\u001b[39;00m, \u001b[38;5;241m3.3\u001b[39m]\n\u001b[1;32m----> 2\u001b[0m l4\u001b[38;5;241m.\u001b[39msort()\n",
      "\u001b[1;31mTypeError\u001b[0m: '<' not supported between instances of 'str' and 'int'"
     ]
    }
   ],
   "source": [
    "l4 = [2, 'a', True, 3.3]\n",
    "l4.sort()"
   ]
  },
  {
   "cell_type": "code",
   "execution_count": 416,
   "id": "e5a55d76-d3ab-48a6-a6d5-f5c62d3d9f63",
   "metadata": {},
   "outputs": [],
   "source": [
    "l5 = ['z', 'm', 'p', 'r', 'c']"
   ]
  },
  {
   "cell_type": "code",
   "execution_count": 418,
   "id": "3cda6d65-fd1f-4730-ac6b-70a6c4f0790e",
   "metadata": {},
   "outputs": [],
   "source": [
    "l5.sort()"
   ]
  },
  {
   "cell_type": "code",
   "execution_count": 420,
   "id": "cd9c0cbe-a4f2-4590-9388-40b4d49511d6",
   "metadata": {},
   "outputs": [
    {
     "data": {
      "text/plain": [
       "['c', 'm', 'p', 'r', 'z']"
      ]
     },
     "execution_count": 420,
     "metadata": {},
     "output_type": "execute_result"
    }
   ],
   "source": [
    "l5"
   ]
  },
  {
   "cell_type": "code",
   "execution_count": 422,
   "id": "d5292954-7b7b-45de-89a3-e27d88266def",
   "metadata": {},
   "outputs": [],
   "source": [
    "l5.sort(reverse=True)"
   ]
  },
  {
   "cell_type": "code",
   "execution_count": 424,
   "id": "ecbaa034-988e-4c7c-b883-d48fab8e76e1",
   "metadata": {},
   "outputs": [
    {
     "data": {
      "text/plain": [
       "['z', 'r', 'p', 'm', 'c']"
      ]
     },
     "execution_count": 424,
     "metadata": {},
     "output_type": "execute_result"
    }
   ],
   "source": [
    "l5"
   ]
  },
  {
   "cell_type": "code",
   "execution_count": 426,
   "id": "ee4a4e7d-a5fd-4730-af60-df180b950e28",
   "metadata": {},
   "outputs": [
    {
     "data": {
      "text/plain": [
       "[10, 15, 20, 30, 40, 50]"
      ]
     },
     "execution_count": 426,
     "metadata": {},
     "output_type": "execute_result"
    }
   ],
   "source": [
    "l"
   ]
  },
  {
   "cell_type": "code",
   "execution_count": 428,
   "id": "274bd21f-1be8-4517-8c87-a3ac4877e109",
   "metadata": {},
   "outputs": [],
   "source": [
    "l6 = [10+20j, 1+2j, 100+200j]"
   ]
  },
  {
   "cell_type": "code",
   "execution_count": 430,
   "id": "dd5b69ca-5fb9-4060-ab90-35a5ba5f26d5",
   "metadata": {},
   "outputs": [
    {
     "data": {
      "text/plain": [
       "[True, '10', (1+2j)]"
      ]
     },
     "execution_count": 430,
     "metadata": {},
     "output_type": "execute_result"
    }
   ],
   "source": [
    "l1"
   ]
  },
  {
   "cell_type": "code",
   "execution_count": 432,
   "id": "fa0d5f8f-7b3b-43df-9d82-d03d63253aa6",
   "metadata": {},
   "outputs": [
    {
     "data": {
      "text/plain": [
       "[90, 8.9, 'hi', False, 10, 20, 30, 40, 50, 10, 20, 30, 40, 50]"
      ]
     },
     "execution_count": 432,
     "metadata": {},
     "output_type": "execute_result"
    }
   ],
   "source": [
    "l2"
   ]
  },
  {
   "cell_type": "code",
   "execution_count": 434,
   "id": "8860e3cb-c244-4599-b29e-eafb1e7f2a72",
   "metadata": {},
   "outputs": [
    {
     "data": {
      "text/plain": [
       "[20, 200, 1, 10, 50, 3, 46]"
      ]
     },
     "execution_count": 434,
     "metadata": {},
     "output_type": "execute_result"
    }
   ],
   "source": [
    "l3"
   ]
  },
  {
   "cell_type": "code",
   "execution_count": 436,
   "id": "e40bc72c-b259-480c-8c50-83aa208a3477",
   "metadata": {},
   "outputs": [],
   "source": [
    "l1.append('nit')"
   ]
  },
  {
   "cell_type": "code",
   "execution_count": 438,
   "id": "1f1af689-9e25-4fb3-be94-014560f1cd9b",
   "metadata": {},
   "outputs": [
    {
     "data": {
      "text/plain": [
       "[True, '10', (1+2j), 'nit']"
      ]
     },
     "execution_count": 438,
     "metadata": {},
     "output_type": "execute_result"
    }
   ],
   "source": [
    "l1"
   ]
  },
  {
   "cell_type": "code",
   "execution_count": null,
   "id": "9ce6bc9a-1c0f-4fbe-9a53-acc7e0faccfb",
   "metadata": {},
   "outputs": [],
   "source": [
    "print(l1[7][0])\n",
    "print(l1[7][1])\n",
    "print(l1[7][2])\n"
   ]
  },
  {
   "cell_type": "code",
   "execution_count": 440,
   "id": "c2be6fbb-e62d-4221-94f1-896c6855de55",
   "metadata": {},
   "outputs": [
    {
     "data": {
      "text/plain": [
       "True"
      ]
     },
     "execution_count": 440,
     "metadata": {},
     "output_type": "execute_result"
    }
   ],
   "source": [
    "50 in l"
   ]
  },
  {
   "cell_type": "code",
   "execution_count": 442,
   "id": "103cd610-07b8-4166-9c4f-481987eada22",
   "metadata": {},
   "outputs": [
    {
     "data": {
      "text/plain": [
       "False"
      ]
     },
     "execution_count": 442,
     "metadata": {},
     "output_type": "execute_result"
    }
   ],
   "source": [
    "500 in l "
   ]
  },
  {
   "cell_type": "code",
   "execution_count": null,
   "id": "29e9b18b-40e2-451b-8e80-34e932f1b388",
   "metadata": {},
   "outputs": [],
   "source": [
    "for i in l:\n",
    "    print(i)"
   ]
  },
  {
   "cell_type": "code",
   "execution_count": 444,
   "id": "e058fdb6-9de3-4441-97d3-d70fc5f1398b",
   "metadata": {},
   "outputs": [
    {
     "name": "stdout",
     "output_type": "stream",
     "text": [
      "90\n",
      "8.9\n",
      "hi\n",
      "False\n",
      "10\n",
      "20\n",
      "30\n",
      "40\n",
      "50\n",
      "10\n",
      "20\n",
      "30\n",
      "40\n",
      "50\n"
     ]
    }
   ],
   "source": [
    "for i in l2:\n",
    "    print(i)"
   ]
  },
  {
   "cell_type": "code",
   "execution_count": null,
   "id": "ed052540-c20d-4e53-b71a-9c540f73bf72",
   "metadata": {},
   "outputs": [],
   "source": [
    "l"
   ]
  },
  {
   "cell_type": "code",
   "execution_count": 446,
   "id": "a6e1686e-6200-499c-a087-acc99e5116c2",
   "metadata": {},
   "outputs": [
    {
     "name": "stdout",
     "output_type": "stream",
     "text": [
      "(0, 10)\n",
      "(1, 15)\n",
      "(2, 20)\n",
      "(3, 30)\n",
      "(4, 40)\n",
      "(5, 50)\n"
     ]
    }
   ],
   "source": [
    "for i in enumerate(l):\n",
    "    print(i)"
   ]
  },
  {
   "cell_type": "markdown",
   "id": "4b381c1a-9968-458f-8765-92a338a716f8",
   "metadata": {},
   "source": [
    "# all() & any()"
   ]
  },
  {
   "cell_type": "code",
   "execution_count": 450,
   "id": "f97cd7c9-3212-4f69-9208-fb8443764073",
   "metadata": {},
   "outputs": [
    {
     "data": {
      "text/plain": [
       "True"
      ]
     },
     "execution_count": 450,
     "metadata": {},
     "output_type": "execute_result"
    }
   ],
   "source": [
    "all(l)"
   ]
  },
  {
   "cell_type": "code",
   "execution_count": 452,
   "id": "ccf70d56-74e6-45f2-8ba7-ad6c54f2d307",
   "metadata": {},
   "outputs": [
    {
     "data": {
      "text/plain": [
       "True"
      ]
     },
     "execution_count": 452,
     "metadata": {},
     "output_type": "execute_result"
    }
   ],
   "source": [
    "any(l)"
   ]
  },
  {
   "cell_type": "code",
   "execution_count": 454,
   "id": "57720100-22d7-4599-8d0b-d6b032dc7513",
   "metadata": {},
   "outputs": [
    {
     "data": {
      "text/plain": [
       "True"
      ]
     },
     "execution_count": 454,
     "metadata": {},
     "output_type": "execute_result"
    }
   ],
   "source": [
    "all(l1)"
   ]
  },
  {
   "cell_type": "code",
   "execution_count": 458,
   "id": "b57d1333-0950-4453-99bb-23e2a0c2efaf",
   "metadata": {},
   "outputs": [
    {
     "data": {
      "text/plain": [
       "True"
      ]
     },
     "execution_count": 458,
     "metadata": {},
     "output_type": "execute_result"
    }
   ],
   "source": [
    "any(l1)"
   ]
  },
  {
   "cell_type": "code",
   "execution_count": 460,
   "id": "32f10533-be6f-4fd1-96b1-7cb1201dd130",
   "metadata": {},
   "outputs": [
    {
     "data": {
      "text/plain": [
       "[10, 15, 20, 30, 40, 50]"
      ]
     },
     "execution_count": 460,
     "metadata": {},
     "output_type": "execute_result"
    }
   ],
   "source": [
    "l"
   ]
  },
  {
   "cell_type": "code",
   "execution_count": 462,
   "id": "82a44799-b2a9-4846-9536-4d4d4c04227e",
   "metadata": {},
   "outputs": [],
   "source": [
    "l[0] = [100]"
   ]
  },
  {
   "cell_type": "code",
   "execution_count": 464,
   "id": "6c26d43d-8a3b-4895-bb8c-4ee5be000a04",
   "metadata": {},
   "outputs": [
    {
     "data": {
      "text/plain": [
       "[[100], 15, 20, 30, 40, 50]"
      ]
     },
     "execution_count": 464,
     "metadata": {},
     "output_type": "execute_result"
    }
   ],
   "source": [
    "l"
   ]
  },
  {
   "cell_type": "code",
   "execution_count": null,
   "id": "827b86b4-0a1b-4e24-a4d6-31c62b6843f1",
   "metadata": {},
   "outputs": [],
   "source": []
  },
  {
   "cell_type": "code",
   "execution_count": null,
   "id": "c2c91528-21c8-492a-9020-5600926372d7",
   "metadata": {},
   "outputs": [],
   "source": []
  },
  {
   "cell_type": "code",
   "execution_count": null,
   "id": "f62d757b-127d-4336-87ee-b4e86a91e227",
   "metadata": {},
   "outputs": [],
   "source": []
  },
  {
   "cell_type": "markdown",
   "id": "72eb1987-79c0-4015-b1b4-d66c01162e3a",
   "metadata": {},
   "source": [
    "# 28th Sep TUPLE"
   ]
  },
  {
   "cell_type": "code",
   "execution_count": 466,
   "id": "687c9a87-9546-4925-911b-dca40d435e6d",
   "metadata": {},
   "outputs": [],
   "source": [
    "t = ()"
   ]
  },
  {
   "cell_type": "code",
   "execution_count": 468,
   "id": "1adfa780-54ce-4b43-93f3-7f5de695c7fc",
   "metadata": {},
   "outputs": [
    {
     "data": {
      "text/plain": [
       "()"
      ]
     },
     "execution_count": 468,
     "metadata": {},
     "output_type": "execute_result"
    }
   ],
   "source": [
    "t"
   ]
  },
  {
   "cell_type": "code",
   "execution_count": 470,
   "id": "ccfb5dcf-1035-452a-9c9d-64ab79eaaf70",
   "metadata": {},
   "outputs": [
    {
     "data": {
      "text/plain": [
       "()"
      ]
     },
     "execution_count": 470,
     "metadata": {},
     "output_type": "execute_result"
    }
   ],
   "source": [
    "t1 = tuple()\n",
    "t1"
   ]
  },
  {
   "cell_type": "code",
   "execution_count": 472,
   "id": "8b9bbae0-bf10-49f3-9569-0d3a6aefd42d",
   "metadata": {},
   "outputs": [
    {
     "data": {
      "text/plain": [
       "(10, 20, 30, 40, 50)"
      ]
     },
     "execution_count": 472,
     "metadata": {},
     "output_type": "execute_result"
    }
   ],
   "source": [
    "t1 = (10,20,30,40,50)\n",
    "t1"
   ]
  },
  {
   "cell_type": "code",
   "execution_count": 474,
   "id": "d472ccca-8728-43f1-bebe-5ecc3aabbab2",
   "metadata": {},
   "outputs": [
    {
     "data": {
      "text/plain": [
       "10"
      ]
     },
     "execution_count": 474,
     "metadata": {},
     "output_type": "execute_result"
    }
   ],
   "source": [
    "t1[0]"
   ]
  },
  {
   "cell_type": "code",
   "execution_count": 478,
   "id": "7ce35577-2884-4ec8-97cd-02e4301771c1",
   "metadata": {},
   "outputs": [
    {
     "ename": "TypeError",
     "evalue": "'tuple' object does not support item assignment",
     "output_type": "error",
     "traceback": [
      "\u001b[1;31m---------------------------------------------------------------------------\u001b[0m",
      "\u001b[1;31mTypeError\u001b[0m                                 Traceback (most recent call last)",
      "Cell \u001b[1;32mIn[478], line 1\u001b[0m\n\u001b[1;32m----> 1\u001b[0m t1[\u001b[38;5;241m0\u001b[39m] \u001b[38;5;241m=\u001b[39m \u001b[38;5;241m100\u001b[39m\n\u001b[0;32m      2\u001b[0m t1\n",
      "\u001b[1;31mTypeError\u001b[0m: 'tuple' object does not support item assignment"
     ]
    }
   ],
   "source": [
    "t1[0] = 100\n",
    "t1"
   ]
  },
  {
   "cell_type": "code",
   "execution_count": 480,
   "id": "064b3653-ce5d-4c16-83f6-00b385d4c1f4",
   "metadata": {},
   "outputs": [
    {
     "data": {
      "text/plain": [
       "(10, 1.2, 'nit', True, (1+2j))"
      ]
     },
     "execution_count": 480,
     "metadata": {},
     "output_type": "execute_result"
    }
   ],
   "source": [
    "t2=(10, 1.2, 'nit', True, (1+2j))\n",
    "t2"
   ]
  },
  {
   "cell_type": "code",
   "execution_count": 482,
   "id": "3f953e3a-a89a-480a-8706-dcde6a8b7a0b",
   "metadata": {},
   "outputs": [
    {
     "data": {
      "text/plain": [
       "5"
      ]
     },
     "execution_count": 482,
     "metadata": {},
     "output_type": "execute_result"
    }
   ],
   "source": [
    "len(t2)"
   ]
  },
  {
   "cell_type": "code",
   "execution_count": 484,
   "id": "33e78fe5-4070-4c73-bd3a-795a146bf8dc",
   "metadata": {},
   "outputs": [
    {
     "data": {
      "text/plain": [
       "1"
      ]
     },
     "execution_count": 484,
     "metadata": {},
     "output_type": "execute_result"
    }
   ],
   "source": [
    "t2.count(1.2)"
   ]
  },
  {
   "cell_type": "code",
   "execution_count": 486,
   "id": "ee0ccabe-6e33-47be-aa81-aed3d909abdb",
   "metadata": {},
   "outputs": [
    {
     "data": {
      "text/plain": [
       "1"
      ]
     },
     "execution_count": 486,
     "metadata": {},
     "output_type": "execute_result"
    }
   ],
   "source": [
    "t2.index(1.2)"
   ]
  },
  {
   "cell_type": "code",
   "execution_count": 488,
   "id": "591e5df6-aa3c-4f65-a4fb-658311018714",
   "metadata": {},
   "outputs": [
    {
     "data": {
      "text/plain": [
       "(10, 1.2, 'nit', True, (1+2j))"
      ]
     },
     "execution_count": 488,
     "metadata": {},
     "output_type": "execute_result"
    }
   ],
   "source": [
    "t2"
   ]
  },
  {
   "cell_type": "code",
   "execution_count": 492,
   "id": "cd62c6b7-df28-4023-8d27-b83ec89f6ad4",
   "metadata": {},
   "outputs": [
    {
     "ename": "AttributeError",
     "evalue": "'tuple' object has no attribute 'remove'",
     "output_type": "error",
     "traceback": [
      "\u001b[1;31m---------------------------------------------------------------------------\u001b[0m",
      "\u001b[1;31mAttributeError\u001b[0m                            Traceback (most recent call last)",
      "Cell \u001b[1;32mIn[492], line 1\u001b[0m\n\u001b[1;32m----> 1\u001b[0m t2\u001b[38;5;241m.\u001b[39mremove(\u001b[38;5;241m1.2\u001b[39m)\n",
      "\u001b[1;31mAttributeError\u001b[0m: 'tuple' object has no attribute 'remove'"
     ]
    }
   ],
   "source": [
    "t2.remove(1.2)"
   ]
  },
  {
   "cell_type": "code",
   "execution_count": 494,
   "id": "04a648f5-2d47-41a5-a4f2-5a9b4041056e",
   "metadata": {},
   "outputs": [
    {
     "data": {
      "text/plain": [
       "('xyz', 56567, 'cizzp58866', 'dob')"
      ]
     },
     "execution_count": 494,
     "metadata": {},
     "output_type": "execute_result"
    }
   ],
   "source": [
    "icici = ('xyz', 56567, 'cizzp58866', 'dob')\n",
    "icici"
   ]
  },
  {
   "cell_type": "code",
   "execution_count": 496,
   "id": "65b4f786-7dc2-4448-a04c-2179e883e1a0",
   "metadata": {},
   "outputs": [
    {
     "ename": "TypeError",
     "evalue": "'tuple' object does not support item assignment",
     "output_type": "error",
     "traceback": [
      "\u001b[1;31m---------------------------------------------------------------------------\u001b[0m",
      "\u001b[1;31mTypeError\u001b[0m                                 Traceback (most recent call last)",
      "Cell \u001b[1;32mIn[496], line 1\u001b[0m\n\u001b[1;32m----> 1\u001b[0m icici[\u001b[38;5;241m1\u001b[39m] \u001b[38;5;241m=\u001b[39m \u001b[38;5;241m678\u001b[39m\n\u001b[0;32m      2\u001b[0m icici\n",
      "\u001b[1;31mTypeError\u001b[0m: 'tuple' object does not support item assignment"
     ]
    }
   ],
   "source": [
    "icici[1] = 678\n",
    "icici"
   ]
  },
  {
   "cell_type": "code",
   "execution_count": 498,
   "id": "6cbfd342-8d7f-4ede-ad1c-5df783ffc535",
   "metadata": {},
   "outputs": [
    {
     "data": {
      "text/plain": [
       "(10, 20, 30, 40, 50)"
      ]
     },
     "execution_count": 498,
     "metadata": {},
     "output_type": "execute_result"
    }
   ],
   "source": [
    "t1"
   ]
  },
  {
   "cell_type": "code",
   "execution_count": 500,
   "id": "a9482a77-ab5a-4027-b261-f6380cd2a22a",
   "metadata": {},
   "outputs": [
    {
     "data": {
      "text/plain": [
       "(10, 20, 30, 40, 50)"
      ]
     },
     "execution_count": 500,
     "metadata": {},
     "output_type": "execute_result"
    }
   ],
   "source": [
    "t1[:]"
   ]
  },
  {
   "cell_type": "code",
   "execution_count": 502,
   "id": "9b3c885b-8a97-4769-92d1-2af68ff8afd3",
   "metadata": {},
   "outputs": [
    {
     "data": {
      "text/plain": [
       "[[100], 15, 20, 30, 40, 50]"
      ]
     },
     "execution_count": 502,
     "metadata": {},
     "output_type": "execute_result"
    }
   ],
   "source": [
    "l[:]"
   ]
  },
  {
   "cell_type": "code",
   "execution_count": 504,
   "id": "3ec72d56-4314-4b6b-a887-9753481ce33c",
   "metadata": {},
   "outputs": [
    {
     "data": {
      "text/plain": [
       "()"
      ]
     },
     "execution_count": 504,
     "metadata": {},
     "output_type": "execute_result"
    }
   ],
   "source": [
    "t"
   ]
  },
  {
   "cell_type": "code",
   "execution_count": 506,
   "id": "de6a3f93-0c72-406c-a55e-893dee0ebd06",
   "metadata": {},
   "outputs": [
    {
     "data": {
      "text/plain": [
       "(10, 20, 30, 40, 50)"
      ]
     },
     "execution_count": 506,
     "metadata": {},
     "output_type": "execute_result"
    }
   ],
   "source": [
    "t1"
   ]
  },
  {
   "cell_type": "code",
   "execution_count": 508,
   "id": "ec5e7a6c-50fe-4fe2-a005-7f72f9ae3052",
   "metadata": {},
   "outputs": [
    {
     "data": {
      "text/plain": [
       "(10, 1.2, 'nit', True, (1+2j))"
      ]
     },
     "execution_count": 508,
     "metadata": {},
     "output_type": "execute_result"
    }
   ],
   "source": [
    "t2"
   ]
  },
  {
   "cell_type": "code",
   "execution_count": 49,
   "id": "888e5f30-81a0-44d1-9464-effb395c8ede",
   "metadata": {},
   "outputs": [
    {
     "ename": "TypeError",
     "evalue": "'builtin_function_or_method' object is not subscriptable",
     "output_type": "error",
     "traceback": [
      "\u001b[1;31m---------------------------------------------------------------------------\u001b[0m",
      "\u001b[1;31mTypeError\u001b[0m                                 Traceback (most recent call last)",
      "Cell \u001b[1;32mIn[49], line 1\u001b[0m\n\u001b[1;32m----> 1\u001b[0m \u001b[38;5;28mprint\u001b[39m[\u001b[38;5;241m2\u001b[39m][\u001b[38;5;241m0\u001b[39m]\n\u001b[0;32m      2\u001b[0m \u001b[38;5;28mprint\u001b[39m[\u001b[38;5;241m2\u001b[39m][\u001b[38;5;241m1\u001b[39m]\n\u001b[0;32m      3\u001b[0m \u001b[38;5;28mprint\u001b[39m[\u001b[38;5;241m2\u001b[39m][\u001b[38;5;241m2\u001b[39m]\n",
      "\u001b[1;31mTypeError\u001b[0m: 'builtin_function_or_method' object is not subscriptable"
     ]
    }
   ],
   "source": [
    "print[2][0]\n",
    "print[2][1]\n",
    "print[2][2]"
   ]
  },
  {
   "cell_type": "code",
   "execution_count": 514,
   "id": "47167d20-f185-4553-9c93-9eda0b16a7a0",
   "metadata": {},
   "outputs": [
    {
     "name": "stdout",
     "output_type": "stream",
     "text": [
      "10\n",
      "20\n",
      "30\n",
      "40\n",
      "50\n"
     ]
    }
   ],
   "source": [
    "for i in t1:\n",
    "    print(i)"
   ]
  },
  {
   "cell_type": "code",
   "execution_count": 516,
   "id": "ebad4a5e-37e3-4410-8633-15d3b898027f",
   "metadata": {},
   "outputs": [
    {
     "name": "stdout",
     "output_type": "stream",
     "text": [
      "(0, 10)\n",
      "(1, 20)\n",
      "(2, 30)\n",
      "(3, 40)\n",
      "(4, 50)\n"
     ]
    }
   ],
   "source": [
    "for i in enumerate(t1):\n",
    "    print(i)"
   ]
  },
  {
   "cell_type": "code",
   "execution_count": 518,
   "id": "34acc13e-3be5-4a57-9fcc-16f4bfbd6561",
   "metadata": {},
   "outputs": [
    {
     "data": {
      "text/plain": [
       "(10, 20, 30, 40, 50, 10, 20, 30, 40, 50)"
      ]
     },
     "execution_count": 518,
     "metadata": {},
     "output_type": "execute_result"
    }
   ],
   "source": [
    "t4 = t1 * 2\n",
    "t4"
   ]
  },
  {
   "cell_type": "code",
   "execution_count": 520,
   "id": "e16bc00a-3bde-41b9-9e6f-eac5b0d7d9fe",
   "metadata": {},
   "outputs": [],
   "source": [
    "t5 = (3,56,100,6,53)"
   ]
  },
  {
   "cell_type": "code",
   "execution_count": 522,
   "id": "bd24e35b-8e5d-45fb-8557-53f4ed88af4c",
   "metadata": {},
   "outputs": [
    {
     "data": {
      "text/plain": [
       "[3, 6, 53, 56, 100]"
      ]
     },
     "execution_count": 522,
     "metadata": {},
     "output_type": "execute_result"
    }
   ],
   "source": [
    "sorted(t5)"
   ]
  },
  {
   "cell_type": "code",
   "execution_count": 524,
   "id": "379e9399-d27c-490f-95c4-68ea2321c1f0",
   "metadata": {},
   "outputs": [
    {
     "data": {
      "text/plain": [
       "[100, 56, 53, 6, 3]"
      ]
     },
     "execution_count": 524,
     "metadata": {},
     "output_type": "execute_result"
    }
   ],
   "source": [
    "sorted(t5, reverse=True)"
   ]
  },
  {
   "cell_type": "code",
   "execution_count": 526,
   "id": "082a4da4-098c-461e-9acb-cc70661205b1",
   "metadata": {},
   "outputs": [
    {
     "data": {
      "text/plain": [
       "(10, 20, 30)"
      ]
     },
     "execution_count": 526,
     "metadata": {},
     "output_type": "execute_result"
    }
   ],
   "source": [
    "t6 = (10,20,30)\n",
    "t6"
   ]
  },
  {
   "cell_type": "code",
   "execution_count": 528,
   "id": "16e1ca41-25c1-44b7-a7f1-4290203c4d5c",
   "metadata": {},
   "outputs": [],
   "source": [
    "del t6"
   ]
  },
  {
   "cell_type": "markdown",
   "id": "23abf856-1867-41b8-b43e-1bca41a8fda0",
   "metadata": {},
   "source": [
    "# 30th Sep --> SET"
   ]
  },
  {
   "cell_type": "code",
   "execution_count": null,
   "id": "5996ef16-028f-440f-9486-f8d08f922d61",
   "metadata": {},
   "outputs": [],
   "source": [
    "s = {}\n",
    "s"
   ]
  },
  {
   "cell_type": "code",
   "execution_count": null,
   "id": "cbcb8206-d580-4257-b881-34e717b0a096",
   "metadata": {},
   "outputs": [],
   "source": [
    "type(s)"
   ]
  },
  {
   "cell_type": "code",
   "execution_count": null,
   "id": "38509e09-9e00-44e3-93fa-01f7982c050f",
   "metadata": {},
   "outputs": [],
   "source": [
    "s1 = set()\n",
    "print(s1)\n",
    "print(type(s1))"
   ]
  },
  {
   "cell_type": "code",
   "execution_count": null,
   "id": "0913dc99-e1e7-44f5-93be-ccb609e86fdb",
   "metadata": {},
   "outputs": [],
   "source": [
    "s2 = {20, 100,3, 5, 200, 3, 6}\n",
    "s2"
   ]
  },
  {
   "cell_type": "code",
   "execution_count": null,
   "id": "1ece2299-d810-4123-b03d-3e5dd7a3ee50",
   "metadata": {},
   "outputs": [],
   "source": [
    "s2.add('nit')\n",
    "s2"
   ]
  },
  {
   "cell_type": "code",
   "execution_count": null,
   "id": "3e024025-b9e8-4e2e-954d-10386346b8fb",
   "metadata": {},
   "outputs": [],
   "source": [
    "s2.add (1+2j)\n",
    "s2.add(True)\n",
    "s2.add(2.3)\n"
   ]
  },
  {
   "cell_type": "code",
   "execution_count": null,
   "id": "08398ef3-7630-4e7f-942d-494d04719097",
   "metadata": {},
   "outputs": [],
   "source": [
    "s2"
   ]
  },
  {
   "cell_type": "code",
   "execution_count": null,
   "id": "4991cd6e-34cf-4400-85fc-75fa7ffafec1",
   "metadata": {},
   "outputs": [],
   "source": [
    "s3 = s2.copy()\n",
    "s3"
   ]
  },
  {
   "cell_type": "code",
   "execution_count": null,
   "id": "ef60fc5c-c07d-4c41-b42a-0820d3848f05",
   "metadata": {},
   "outputs": [],
   "source": [
    "s4 = s3.copy()"
   ]
  },
  {
   "cell_type": "code",
   "execution_count": null,
   "id": "79af8fdb-cd8a-4021-b1fe-eba7487bbdb1",
   "metadata": {},
   "outputs": [],
   "source": [
    "s4"
   ]
  },
  {
   "cell_type": "code",
   "execution_count": null,
   "id": "e2687913-0f3c-4fc3-aa1a-6fd5ca49f31e",
   "metadata": {},
   "outputs": [],
   "source": [
    "print(s)\n",
    "print(s1)\n",
    "print(s2)\n",
    "print(s3)\n",
    "print(s4)"
   ]
  },
  {
   "cell_type": "code",
   "execution_count": null,
   "id": "57243fbf-736d-409b-a0f1-420ffb27892b",
   "metadata": {},
   "outputs": [],
   "source": [
    "print(s1)\n",
    "print(s2)\n",
    "print(s3)\n",
    "print(s4)\n",
    "print(s)"
   ]
  },
  {
   "cell_type": "code",
   "execution_count": null,
   "id": "f9ed7848-aa15-4f6d-9fd9-30df2cdf248b",
   "metadata": {},
   "outputs": [],
   "source": [
    "s4"
   ]
  },
  {
   "cell_type": "code",
   "execution_count": null,
   "id": "75ae680d-2e9b-40ff-a746-c1cdca173ce1",
   "metadata": {},
   "outputs": [],
   "source": [
    "len(s4)"
   ]
  },
  {
   "cell_type": "code",
   "execution_count": null,
   "id": "b8bba1e7-f7fe-4161-95b8-fe124dccb917",
   "metadata": {},
   "outputs": [],
   "source": [
    "s4.clear()"
   ]
  },
  {
   "cell_type": "code",
   "execution_count": null,
   "id": "7daea2f1-72eb-4ea9-b2ec-f45e04e3599d",
   "metadata": {},
   "outputs": [],
   "source": [
    "len(s4)"
   ]
  },
  {
   "cell_type": "code",
   "execution_count": null,
   "id": "98abc6f3-facd-4da6-b868-fd85017151d1",
   "metadata": {},
   "outputs": [],
   "source": [
    "del s4"
   ]
  },
  {
   "cell_type": "code",
   "execution_count": null,
   "id": "a5aafbea-a148-4e74-abfe-f48d55c171dc",
   "metadata": {},
   "outputs": [],
   "source": []
  },
  {
   "cell_type": "code",
   "execution_count": null,
   "id": "ac804407-91a6-4d02-94e6-a6411d6c2c8f",
   "metadata": {},
   "outputs": [],
   "source": [
    "s3.pop()"
   ]
  },
  {
   "cell_type": "code",
   "execution_count": null,
   "id": "6d2dc83e-c49f-4463-ac57-367ac8355e57",
   "metadata": {},
   "outputs": [],
   "source": [
    "s3"
   ]
  },
  {
   "cell_type": "code",
   "execution_count": null,
   "id": "fdc86ae9-d183-4e46-a9fd-fd24fd9375f7",
   "metadata": {},
   "outputs": [],
   "source": [
    "s3.remove((1+2j))\n",
    "s3"
   ]
  },
  {
   "cell_type": "code",
   "execution_count": null,
   "id": "b34c6c6b-26ab-44ae-b666-7a362b3db031",
   "metadata": {},
   "outputs": [],
   "source": [
    "s3.discard(1000)\n",
    "s3"
   ]
  },
  {
   "cell_type": "code",
   "execution_count": null,
   "id": "5de2b2a6-c1e5-460c-bc0a-20cde038f96e",
   "metadata": {},
   "outputs": [],
   "source": [
    "s3.remove(1000)\n",
    "s3"
   ]
  },
  {
   "cell_type": "code",
   "execution_count": null,
   "id": "71bbb090-c94c-4da3-bafe-7474706a7ba9",
   "metadata": {},
   "outputs": [],
   "source": [
    "s3.discard(200)\n",
    "s3"
   ]
  },
  {
   "cell_type": "code",
   "execution_count": null,
   "id": "0315cbf2-a631-4918-83bf-fbbec5bd14fd",
   "metadata": {},
   "outputs": [],
   "source": [
    "for i in s2:\n",
    "    print(i)"
   ]
  },
  {
   "cell_type": "code",
   "execution_count": null,
   "id": "11602be6-5881-41f1-8c66-93a42bf05426",
   "metadata": {},
   "outputs": [],
   "source": [
    "for i in enumerate(s2):\n",
    "    print(i)"
   ]
  },
  {
   "cell_type": "code",
   "execution_count": null,
   "id": "d955860f-38f2-4de4-93a2-db96bf83c1d8",
   "metadata": {},
   "outputs": [],
   "source": [
    "s2[2]"
   ]
  },
  {
   "cell_type": "code",
   "execution_count": null,
   "id": "bdf96dbe-0b41-4a16-b605-6010dfbe0a7c",
   "metadata": {},
   "outputs": [],
   "source": []
  },
  {
   "cell_type": "code",
   "execution_count": null,
   "id": "5d280ae2-cac5-41cf-90fe-2bb2b2c072d8",
   "metadata": {},
   "outputs": [],
   "source": []
  },
  {
   "cell_type": "markdown",
   "id": "3a81cd74-6472-4d1c-bfca-bd64c6ca1673",
   "metadata": {},
   "source": [
    "# Set Operation"
   ]
  },
  {
   "cell_type": "code",
   "execution_count": 166,
   "id": "a67b8524-a0de-48fe-9ebc-90927b6bd676",
   "metadata": {},
   "outputs": [],
   "source": [
    "A = {1,2,3,4,5}\n",
    "B = {4,5,6,7,8}\n",
    "C = {8,9,10}"
   ]
  },
  {
   "cell_type": "code",
   "execution_count": 168,
   "id": "1270cb20-4978-4fd9-9e6b-6cf27d0cb6da",
   "metadata": {},
   "outputs": [
    {
     "data": {
      "text/plain": [
       "{1, 2, 3, 4, 5, 6, 7, 8}"
      ]
     },
     "execution_count": 168,
     "metadata": {},
     "output_type": "execute_result"
    }
   ],
   "source": [
    "A | B"
   ]
  },
  {
   "cell_type": "code",
   "execution_count": 170,
   "id": "a2428cf5-7347-48aa-9393-4c1e72bab15e",
   "metadata": {},
   "outputs": [
    {
     "data": {
      "text/plain": [
       "{4, 5, 6, 7, 8, 9, 10}"
      ]
     },
     "execution_count": 170,
     "metadata": {},
     "output_type": "execute_result"
    }
   ],
   "source": [
    "B.union(C)"
   ]
  },
  {
   "cell_type": "code",
   "execution_count": 172,
   "id": "deb56fe6-335f-4145-9d3f-86275e681cc6",
   "metadata": {},
   "outputs": [
    {
     "data": {
      "text/plain": [
       "{1, 2, 3, 4, 5, 6, 7, 8, 9, 10}"
      ]
     },
     "execution_count": 172,
     "metadata": {},
     "output_type": "execute_result"
    }
   ],
   "source": [
    "A.union(B,C)"
   ]
  },
  {
   "cell_type": "code",
   "execution_count": 174,
   "id": "8495b9f9-b715-4c95-bacd-81130fd0634e",
   "metadata": {},
   "outputs": [
    {
     "data": {
      "text/plain": [
       "{1, 2, 3, 4, 5, 6, 7, 8, 9, 10}"
      ]
     },
     "execution_count": 174,
     "metadata": {},
     "output_type": "execute_result"
    }
   ],
   "source": [
    "B | C | A"
   ]
  },
  {
   "cell_type": "code",
   "execution_count": 176,
   "id": "96636a70-c930-4b99-b801-e3763b97f4f1",
   "metadata": {},
   "outputs": [
    {
     "name": "stdout",
     "output_type": "stream",
     "text": [
      "{1, 2, 3, 4, 5}\n",
      "{4, 5, 6, 7, 8}\n",
      "{8, 9, 10}\n"
     ]
    }
   ],
   "source": [
    "print(A)\n",
    "print(B)\n",
    "print(C)"
   ]
  },
  {
   "cell_type": "code",
   "execution_count": 178,
   "id": "67fcda55-1cd4-42e4-97bc-13f2120f89c9",
   "metadata": {},
   "outputs": [
    {
     "data": {
      "text/plain": [
       "{4, 5}"
      ]
     },
     "execution_count": 178,
     "metadata": {},
     "output_type": "execute_result"
    }
   ],
   "source": [
    "A & B"
   ]
  },
  {
   "cell_type": "code",
   "execution_count": null,
   "id": "495a4c0b-8104-499d-805b-3a12eebdf225",
   "metadata": {},
   "outputs": [],
   "source": [
    "B.intersection(C)"
   ]
  },
  {
   "cell_type": "code",
   "execution_count": 180,
   "id": "aa0e6e27-1262-4fc1-a8af-7cfa7a60fbcc",
   "metadata": {},
   "outputs": [
    {
     "data": {
      "text/plain": [
       "set()"
      ]
     },
     "execution_count": 180,
     "metadata": {},
     "output_type": "execute_result"
    }
   ],
   "source": [
    "A & C"
   ]
  },
  {
   "cell_type": "code",
   "execution_count": 182,
   "id": "2131c183-af1f-4da6-a29a-fe1967b8f59f",
   "metadata": {},
   "outputs": [
    {
     "data": {
      "text/plain": [
       "{1, 2, 3, 4, 5}"
      ]
     },
     "execution_count": 182,
     "metadata": {},
     "output_type": "execute_result"
    }
   ],
   "source": [
    "A"
   ]
  },
  {
   "cell_type": "code",
   "execution_count": 184,
   "id": "cfd64b3e-125f-4df7-b15a-c541a50d92a7",
   "metadata": {},
   "outputs": [],
   "source": [
    "A.update(B)"
   ]
  },
  {
   "cell_type": "code",
   "execution_count": 186,
   "id": "6206546e-fa29-4722-84c4-b2b2140f7102",
   "metadata": {},
   "outputs": [
    {
     "data": {
      "text/plain": [
       "{1, 2, 3, 4, 5, 6, 7, 8}"
      ]
     },
     "execution_count": 186,
     "metadata": {},
     "output_type": "execute_result"
    }
   ],
   "source": [
    "A"
   ]
  },
  {
   "cell_type": "code",
   "execution_count": 188,
   "id": "fc6471db-b430-4e4c-ab51-e9bbdff3b011",
   "metadata": {},
   "outputs": [
    {
     "data": {
      "text/plain": [
       "{4, 5, 6, 7, 8}"
      ]
     },
     "execution_count": 188,
     "metadata": {},
     "output_type": "execute_result"
    }
   ],
   "source": [
    "B"
   ]
  },
  {
   "cell_type": "code",
   "execution_count": 190,
   "id": "509f3081-93e9-48c5-88c7-21b9d5fc7009",
   "metadata": {},
   "outputs": [],
   "source": [
    "B.update(A,C)"
   ]
  },
  {
   "cell_type": "code",
   "execution_count": 192,
   "id": "cd914a53-6980-4cdb-8bfc-e588c479af57",
   "metadata": {},
   "outputs": [
    {
     "data": {
      "text/plain": [
       "{1, 2, 3, 4, 5, 6, 7, 8, 9, 10}"
      ]
     },
     "execution_count": 192,
     "metadata": {},
     "output_type": "execute_result"
    }
   ],
   "source": [
    "B"
   ]
  },
  {
   "cell_type": "code",
   "execution_count": 194,
   "id": "ec45e82b-b6fb-4817-9194-75844e650f7f",
   "metadata": {},
   "outputs": [],
   "source": [
    "B.update(A,C)"
   ]
  },
  {
   "cell_type": "code",
   "execution_count": 196,
   "id": "cc2678cd-86ca-4773-8fb8-ed45d827fc27",
   "metadata": {},
   "outputs": [
    {
     "data": {
      "text/plain": [
       "{1, 2, 3, 4, 5, 6, 7, 8, 9, 10}"
      ]
     },
     "execution_count": 196,
     "metadata": {},
     "output_type": "execute_result"
    }
   ],
   "source": [
    "B"
   ]
  },
  {
   "cell_type": "code",
   "execution_count": 198,
   "id": "ece51390-da33-46ce-99c0-964434a81f01",
   "metadata": {},
   "outputs": [
    {
     "name": "stdout",
     "output_type": "stream",
     "text": [
      "{1, 2, 3, 4, 5, 6, 7, 8}\n",
      "{1, 2, 3, 4, 5, 6, 7, 8, 9, 10}\n",
      "{8, 9, 10}\n"
     ]
    }
   ],
   "source": [
    "print(A)\n",
    "print(B)\n",
    "print(C)"
   ]
  },
  {
   "cell_type": "code",
   "execution_count": 71,
   "id": "dc0229c8-bbe3-48b2-bc05-88bfdc8d6685",
   "metadata": {},
   "outputs": [],
   "source": [
    "A = {1,2,3,4,5,6,7,8}\n",
    "B = {1,2,3,4,5,6,7,8,9,10}\n",
    "C = {8,9,10}"
   ]
  },
  {
   "cell_type": "code",
   "execution_count": 202,
   "id": "c4835e50-3824-4477-9639-bca711e4449e",
   "metadata": {},
   "outputs": [
    {
     "data": {
      "text/plain": [
       "set()"
      ]
     },
     "execution_count": 202,
     "metadata": {},
     "output_type": "execute_result"
    }
   ],
   "source": [
    "A - B"
   ]
  },
  {
   "cell_type": "code",
   "execution_count": 204,
   "id": "350966a7-3ae8-4879-a87b-50d628122a25",
   "metadata": {},
   "outputs": [
    {
     "data": {
      "text/plain": [
       "{9, 10}"
      ]
     },
     "execution_count": 204,
     "metadata": {},
     "output_type": "execute_result"
    }
   ],
   "source": [
    "B - A"
   ]
  },
  {
   "cell_type": "code",
   "execution_count": 73,
   "id": "ad4c441c-8fd5-4a25-864c-2d203f9129ce",
   "metadata": {},
   "outputs": [
    {
     "data": {
      "text/plain": [
       "{1, 2, 3, 4, 5, 6, 7}"
      ]
     },
     "execution_count": 73,
     "metadata": {},
     "output_type": "execute_result"
    }
   ],
   "source": [
    "B.difference(C)"
   ]
  },
  {
   "cell_type": "code",
   "execution_count": 75,
   "id": "8b16bdc7-9c7e-4db3-8616-10f628a430b4",
   "metadata": {},
   "outputs": [
    {
     "data": {
      "text/plain": [
       "set()"
      ]
     },
     "execution_count": 75,
     "metadata": {},
     "output_type": "execute_result"
    }
   ],
   "source": [
    "A.difference(B)"
   ]
  },
  {
   "cell_type": "code",
   "execution_count": 208,
   "id": "c420819e-d433-45d1-8c75-c9cd66474927",
   "metadata": {},
   "outputs": [
    {
     "name": "stdout",
     "output_type": "stream",
     "text": [
      "{1, 2, 3, 4, 5, 6, 7, 8}\n",
      "{1, 2, 3, 4, 5, 6, 7, 8, 9, 10}\n",
      "{8, 9, 10}\n"
     ]
    }
   ],
   "source": [
    "print(A)\n",
    "print(B)\n",
    "print(C)"
   ]
  },
  {
   "cell_type": "code",
   "execution_count": 210,
   "id": "747f2b95-ecf8-4e14-a3ac-e375077a1f7f",
   "metadata": {},
   "outputs": [],
   "source": [
    "A = {1,2,3,4,5,6,7,8}\n",
    "B = {1,2,3,4,5,6,7,8,9,10}\n",
    "C = {8,9,10}"
   ]
  },
  {
   "cell_type": "code",
   "execution_count": 212,
   "id": "98851a54-47f3-4807-80b4-cd012991a6c0",
   "metadata": {},
   "outputs": [
    {
     "data": {
      "text/plain": [
       "{1, 2, 3, 4, 5, 6, 7}"
      ]
     },
     "execution_count": 212,
     "metadata": {},
     "output_type": "execute_result"
    }
   ],
   "source": [
    "B.symmetric_difference(C)"
   ]
  },
  {
   "cell_type": "code",
   "execution_count": 63,
   "id": "24e24b3a-e5d5-43f3-a87b-549b022a8525",
   "metadata": {},
   "outputs": [],
   "source": [
    "A1 = {1,2,3,4,5}\n",
    "B1 = {4,5,6,7,8}\n",
    "C1 = {8,9,10}"
   ]
  },
  {
   "cell_type": "code",
   "execution_count": 65,
   "id": "80657c7c-12a7-425e-a552-e9f05196ea92",
   "metadata": {},
   "outputs": [
    {
     "data": {
      "text/plain": [
       "{1, 2, 3}"
      ]
     },
     "execution_count": 65,
     "metadata": {},
     "output_type": "execute_result"
    }
   ],
   "source": [
    "A1.difference(B1)"
   ]
  },
  {
   "cell_type": "code",
   "execution_count": 67,
   "id": "1be0736a-e2ba-4a20-8b25-09c7facec5f6",
   "metadata": {},
   "outputs": [
    {
     "data": {
      "text/plain": [
       "{1, 2, 3, 6, 7, 8}"
      ]
     },
     "execution_count": 67,
     "metadata": {},
     "output_type": "execute_result"
    }
   ],
   "source": [
    "A1.symmetric_difference(B1)"
   ]
  },
  {
   "cell_type": "code",
   "execution_count": 220,
   "id": "b5c1d44e-02bf-4912-a4bd-9cb0af9c3949",
   "metadata": {},
   "outputs": [
    {
     "data": {
      "text/plain": [
       "{4, 5, 6, 7, 9, 10}"
      ]
     },
     "execution_count": 220,
     "metadata": {},
     "output_type": "execute_result"
    }
   ],
   "source": [
    "B1.symmetric_difference(C1)"
   ]
  },
  {
   "cell_type": "code",
   "execution_count": 222,
   "id": "05c8c9c6-9b1d-4823-a293-66dcfb8fbfd6",
   "metadata": {},
   "outputs": [
    {
     "data": {
      "text/plain": [
       "{1, 2, 3, 6, 7, 8}"
      ]
     },
     "execution_count": 222,
     "metadata": {},
     "output_type": "execute_result"
    }
   ],
   "source": [
    "B1 ^ A1"
   ]
  },
  {
   "cell_type": "code",
   "execution_count": 224,
   "id": "11b079a6-3aab-459f-aa74-51a00e37f57b",
   "metadata": {},
   "outputs": [
    {
     "data": {
      "text/plain": [
       "{1, 2, 3, 4, 5}"
      ]
     },
     "execution_count": 224,
     "metadata": {},
     "output_type": "execute_result"
    }
   ],
   "source": [
    "A1"
   ]
  },
  {
   "cell_type": "code",
   "execution_count": 226,
   "id": "9fc68ff8-b5f6-41b5-87c9-ac2f227eac4b",
   "metadata": {},
   "outputs": [],
   "source": [
    "A1.symmetric_difference_update(B1)"
   ]
  },
  {
   "cell_type": "code",
   "execution_count": 79,
   "id": "b19620fd-ff90-4ef1-a96b-5fa774412158",
   "metadata": {},
   "outputs": [
    {
     "data": {
      "text/plain": [
       "{1, 2, 3, 4, 5}"
      ]
     },
     "execution_count": 79,
     "metadata": {},
     "output_type": "execute_result"
    }
   ],
   "source": [
    "A1"
   ]
  },
  {
   "cell_type": "code",
   "execution_count": 81,
   "id": "bee332fb-8ae9-4bdf-a98c-5792c57d82c1",
   "metadata": {},
   "outputs": [],
   "source": [
    "A2 = {10,11,12,13,14,15}\n",
    "B2 = {14,15,16,17,18}\n",
    "C12 = {18,19,20}"
   ]
  },
  {
   "cell_type": "code",
   "execution_count": 95,
   "id": "f4909d2b-73ac-45bb-a29f-33033abe666f",
   "metadata": {},
   "outputs": [
    {
     "data": {
      "text/plain": [
       "{10, 11, 12, 13, 16, 17, 18}"
      ]
     },
     "execution_count": 95,
     "metadata": {},
     "output_type": "execute_result"
    }
   ],
   "source": [
    "A2.symmetric_difference(B2)"
   ]
  },
  {
   "cell_type": "code",
   "execution_count": 97,
   "id": "abd7dc63-9849-46b3-88df-3c657a4acd89",
   "metadata": {},
   "outputs": [
    {
     "data": {
      "text/plain": [
       "{10, 11, 12, 13, 14, 15}"
      ]
     },
     "execution_count": 97,
     "metadata": {},
     "output_type": "execute_result"
    }
   ],
   "source": [
    "A2"
   ]
  },
  {
   "cell_type": "code",
   "execution_count": 99,
   "id": "5ac26a6d-4ac0-4ea5-8480-d802547eb696",
   "metadata": {},
   "outputs": [],
   "source": [
    "A2.symmetric_difference_update(B2)"
   ]
  },
  {
   "cell_type": "code",
   "execution_count": 101,
   "id": "394b60ae-a104-4a9c-8b67-3bcfdeb35fa0",
   "metadata": {},
   "outputs": [
    {
     "data": {
      "text/plain": [
       "{10, 11, 12, 13, 16, 17, 18}"
      ]
     },
     "execution_count": 101,
     "metadata": {},
     "output_type": "execute_result"
    }
   ],
   "source": [
    "A2"
   ]
  },
  {
   "cell_type": "code",
   "execution_count": null,
   "id": "eaf3ad10-6dd9-4b16-8969-769e84398c81",
   "metadata": {},
   "outputs": [],
   "source": []
  },
  {
   "cell_type": "code",
   "execution_count": null,
   "id": "95d65bbc-5ab8-4346-93c4-ea0181da1237",
   "metadata": {},
   "outputs": [],
   "source": []
  },
  {
   "cell_type": "markdown",
   "id": "eaa98d72-61f4-4b90-99e5-1ec1c7bb330c",
   "metadata": {},
   "source": [
    "# 1st oct --> Superset (Parent), Subset(Child), disjoint"
   ]
  },
  {
   "cell_type": "code",
   "execution_count": 9,
   "id": "bf7e1fd7-ee10-44bf-bffa-68b3a6232af3",
   "metadata": {},
   "outputs": [],
   "source": [
    "A3 = {1,2,3,4,5,6,7,8,9}\n",
    "B3 = {3,4,5,6,7,8}\n",
    "C3 = {10,20,30,40}"
   ]
  },
  {
   "cell_type": "code",
   "execution_count": 11,
   "id": "f1f08e97-737d-4bf6-9193-40e3f398f06a",
   "metadata": {},
   "outputs": [
    {
     "data": {
      "text/plain": [
       "{1, 2, 3, 4, 5, 6, 7, 8, 9}"
      ]
     },
     "execution_count": 11,
     "metadata": {},
     "output_type": "execute_result"
    }
   ],
   "source": [
    "A3"
   ]
  },
  {
   "cell_type": "code",
   "execution_count": 13,
   "id": "4350f17f-20c0-418c-b83b-04d9a667d7cb",
   "metadata": {},
   "outputs": [
    {
     "data": {
      "text/plain": [
       "True"
      ]
     },
     "execution_count": 13,
     "metadata": {},
     "output_type": "execute_result"
    }
   ],
   "source": [
    "B3.issubset(A3)"
   ]
  },
  {
   "cell_type": "code",
   "execution_count": 15,
   "id": "8b3be544-10dd-4b8f-a329-c95160b8f7ca",
   "metadata": {},
   "outputs": [
    {
     "data": {
      "text/plain": [
       "True"
      ]
     },
     "execution_count": 15,
     "metadata": {},
     "output_type": "execute_result"
    }
   ],
   "source": [
    "A3.issuperset(B3)"
   ]
  },
  {
   "cell_type": "code",
   "execution_count": 17,
   "id": "0b657551-1548-401d-87f9-3bd9de175392",
   "metadata": {},
   "outputs": [
    {
     "data": {
      "text/plain": [
       "False"
      ]
     },
     "execution_count": 17,
     "metadata": {},
     "output_type": "execute_result"
    }
   ],
   "source": [
    "A3.issuperset(C3)"
   ]
  },
  {
   "cell_type": "code",
   "execution_count": 19,
   "id": "6c52e6c7-453b-4e81-8e87-55303a712946",
   "metadata": {},
   "outputs": [
    {
     "data": {
      "text/plain": [
       "True"
      ]
     },
     "execution_count": 19,
     "metadata": {},
     "output_type": "execute_result"
    }
   ],
   "source": [
    "A3.isdisjoint(C3)"
   ]
  },
  {
   "cell_type": "code",
   "execution_count": 25,
   "id": "0eb82e8f-2756-408e-9dc4-4cfab57f65ee",
   "metadata": {},
   "outputs": [],
   "source": [
    "A4 = {1,2,3,4,5,6,7,8,9}\n",
    "B4 = {10,11,12}\n",
    "C4 = {14,15}"
   ]
  },
  {
   "cell_type": "code",
   "execution_count": 27,
   "id": "44414602-18e4-42c9-b9d5-e47d9480e2e7",
   "metadata": {},
   "outputs": [
    {
     "data": {
      "text/plain": [
       "False"
      ]
     },
     "execution_count": 27,
     "metadata": {},
     "output_type": "execute_result"
    }
   ],
   "source": [
    "B4.issubset(A4)"
   ]
  },
  {
   "cell_type": "code",
   "execution_count": 29,
   "id": "567e3681-f386-425c-a8af-f4660da0c743",
   "metadata": {},
   "outputs": [
    {
     "data": {
      "text/plain": [
       "False"
      ]
     },
     "execution_count": 29,
     "metadata": {},
     "output_type": "execute_result"
    }
   ],
   "source": [
    "A4.issuperset(B4)"
   ]
  },
  {
   "cell_type": "code",
   "execution_count": null,
   "id": "3de350ab-6549-4ed8-92e4-8caf899bf7c9",
   "metadata": {},
   "outputs": [],
   "source": []
  },
  {
   "cell_type": "markdown",
   "id": "38202113-ce90-4afe-b37f-fce0d16e917a",
   "metadata": {},
   "source": [
    "# DICTIONARY"
   ]
  },
  {
   "cell_type": "code",
   "execution_count": 32,
   "id": "8b72823f-556d-43a8-8eea-1656ea79da10",
   "metadata": {},
   "outputs": [
    {
     "data": {
      "text/plain": [
       "{}"
      ]
     },
     "execution_count": 32,
     "metadata": {},
     "output_type": "execute_result"
    }
   ],
   "source": [
    "d = {}\n",
    "d"
   ]
  },
  {
   "cell_type": "code",
   "execution_count": 42,
   "id": "ae0a8ddb-f7cd-4e64-838a-f79115c9898a",
   "metadata": {},
   "outputs": [
    {
     "data": {
      "text/plain": [
       "dict"
      ]
     },
     "execution_count": 42,
     "metadata": {},
     "output_type": "execute_result"
    }
   ],
   "source": [
    "d1 = dict()\n",
    "type(d1)"
   ]
  },
  {
   "cell_type": "code",
   "execution_count": 52,
   "id": "e4d8bc22-b850-4779-8544-c5455151f4f2",
   "metadata": {},
   "outputs": [
    {
     "data": {
      "text/plain": [
       "{1: 'one', 2: 'two', 3: 'three', 4: 'four', 5: 'five'}"
      ]
     },
     "execution_count": 52,
     "metadata": {},
     "output_type": "execute_result"
    }
   ],
   "source": [
    "d1 = {1 : 'one', 2: 'two', 3: 'three', 4: 'four', 5: 'five'}\n",
    "d1"
   ]
  },
  {
   "cell_type": "code",
   "execution_count": 54,
   "id": "06161ac2-8032-49c4-9acd-2ab453fb1704",
   "metadata": {},
   "outputs": [
    {
     "data": {
      "text/plain": [
       "dict_items([(1, 'one'), (2, 'two'), (3, 'three'), (4, 'four'), (5, 'five')])"
      ]
     },
     "execution_count": 54,
     "metadata": {},
     "output_type": "execute_result"
    }
   ],
   "source": [
    "d1.items()"
   ]
  },
  {
   "cell_type": "code",
   "execution_count": 56,
   "id": "97581af8-f7af-45c4-ad19-4a3c9fbb6c9f",
   "metadata": {},
   "outputs": [
    {
     "data": {
      "text/plain": [
       "dict_keys([1, 2, 3, 4, 5])"
      ]
     },
     "execution_count": 56,
     "metadata": {},
     "output_type": "execute_result"
    }
   ],
   "source": [
    "d1.keys()"
   ]
  },
  {
   "cell_type": "code",
   "execution_count": 58,
   "id": "35c5726d-88da-4915-ae4a-95a58bdfc7cd",
   "metadata": {},
   "outputs": [
    {
     "data": {
      "text/plain": [
       "dict_values(['one', 'two', 'three', 'four', 'five'])"
      ]
     },
     "execution_count": 58,
     "metadata": {},
     "output_type": "execute_result"
    }
   ],
   "source": [
    "d1.values()"
   ]
  },
  {
   "cell_type": "code",
   "execution_count": 60,
   "id": "4d4f3a90-1506-4ab4-8463-298f7fdc465e",
   "metadata": {},
   "outputs": [
    {
     "data": {
      "text/plain": [
       "5"
      ]
     },
     "execution_count": 60,
     "metadata": {},
     "output_type": "execute_result"
    }
   ],
   "source": [
    "len(d1)"
   ]
  },
  {
   "cell_type": "code",
   "execution_count": 62,
   "id": "cdac4b34-a4de-4dd8-83d5-f4f25f4125db",
   "metadata": {},
   "outputs": [
    {
     "data": {
      "text/plain": [
       "'one'"
      ]
     },
     "execution_count": 62,
     "metadata": {},
     "output_type": "execute_result"
    }
   ],
   "source": [
    "d1[1]"
   ]
  },
  {
   "cell_type": "code",
   "execution_count": 64,
   "id": "704652fe-462e-4675-91ba-5252d8284857",
   "metadata": {},
   "outputs": [],
   "source": [
    "d1[6] = 'sis'"
   ]
  },
  {
   "cell_type": "code",
   "execution_count": 66,
   "id": "a8ca6df5-72cf-4c44-8f1c-5ab4f309e44e",
   "metadata": {},
   "outputs": [
    {
     "data": {
      "text/plain": [
       "{1: 'one', 2: 'two', 3: 'three', 4: 'four', 5: 'five', 6: 'sis'}"
      ]
     },
     "execution_count": 66,
     "metadata": {},
     "output_type": "execute_result"
    }
   ],
   "source": [
    "d1"
   ]
  },
  {
   "cell_type": "code",
   "execution_count": 68,
   "id": "3f128547-830a-4874-aded-c967b73bad80",
   "metadata": {},
   "outputs": [],
   "source": [
    "d1[1.1] = 'float'\n",
    "d1[True] = 'bool'\n",
    "d1['nit'] = 'orga'\n",
    "d1[1+2j] = 'complex'"
   ]
  },
  {
   "cell_type": "code",
   "execution_count": 70,
   "id": "45e3bb4e-7b56-41b2-bddd-5525db39e38d",
   "metadata": {},
   "outputs": [
    {
     "data": {
      "text/plain": [
       "{1: 'bool',\n",
       " 2: 'two',\n",
       " 3: 'three',\n",
       " 4: 'four',\n",
       " 5: 'five',\n",
       " 6: 'sis',\n",
       " 1.1: 'float',\n",
       " 'nit': 'orga',\n",
       " (1+2j): 'complex'}"
      ]
     },
     "execution_count": 70,
     "metadata": {},
     "output_type": "execute_result"
    }
   ],
   "source": [
    "d1"
   ]
  },
  {
   "cell_type": "code",
   "execution_count": 72,
   "id": "cf71daf8-632d-4325-9a57-6ba8f0aa97b2",
   "metadata": {},
   "outputs": [
    {
     "ename": "AttributeError",
     "evalue": "'dict' object has no attribute 'remove'",
     "output_type": "error",
     "traceback": [
      "\u001b[1;31m---------------------------------------------------------------------------\u001b[0m",
      "\u001b[1;31mAttributeError\u001b[0m                            Traceback (most recent call last)",
      "Cell \u001b[1;32mIn[72], line 1\u001b[0m\n\u001b[1;32m----> 1\u001b[0m d1\u001b[38;5;241m.\u001b[39mremove(\u001b[38;5;241m5\u001b[39m)\n",
      "\u001b[1;31mAttributeError\u001b[0m: 'dict' object has no attribute 'remove'"
     ]
    }
   ],
   "source": [
    "d1.remove(5)"
   ]
  },
  {
   "cell_type": "code",
   "execution_count": 74,
   "id": "b21dba73-8d42-4d92-bf98-8df94ef585a8",
   "metadata": {},
   "outputs": [
    {
     "data": {
      "text/plain": [
       "'five'"
      ]
     },
     "execution_count": 74,
     "metadata": {},
     "output_type": "execute_result"
    }
   ],
   "source": [
    "d1.pop(5)"
   ]
  },
  {
   "cell_type": "code",
   "execution_count": 78,
   "id": "b034fb6f-825c-44d4-8735-3bd3a0ad07e9",
   "metadata": {},
   "outputs": [],
   "source": [
    "d2 = d1.copy()"
   ]
  },
  {
   "cell_type": "code",
   "execution_count": 80,
   "id": "9f586d7f-0242-4601-8491-b726cf2096d0",
   "metadata": {},
   "outputs": [
    {
     "data": {
      "text/plain": [
       "{1: 'bool',\n",
       " 2: 'two',\n",
       " 3: 'three',\n",
       " 4: 'four',\n",
       " 6: 'sis',\n",
       " 1.1: 'float',\n",
       " 'nit': 'orga',\n",
       " (1+2j): 'complex'}"
      ]
     },
     "execution_count": 80,
     "metadata": {},
     "output_type": "execute_result"
    }
   ],
   "source": [
    "d2"
   ]
  },
  {
   "cell_type": "code",
   "execution_count": 82,
   "id": "b45bf1a0-d24b-4be4-bba0-6963f3cff580",
   "metadata": {},
   "outputs": [
    {
     "data": {
      "text/plain": [
       "8"
      ]
     },
     "execution_count": 82,
     "metadata": {},
     "output_type": "execute_result"
    }
   ],
   "source": [
    "len(d2)"
   ]
  },
  {
   "cell_type": "code",
   "execution_count": 84,
   "id": "b25e92c3-f414-48a5-9d06-422a11b05542",
   "metadata": {},
   "outputs": [
    {
     "data": {
      "text/plain": [
       "True"
      ]
     },
     "execution_count": 84,
     "metadata": {},
     "output_type": "execute_result"
    }
   ],
   "source": [
    "d1 == d2"
   ]
  },
  {
   "cell_type": "code",
   "execution_count": 86,
   "id": "8ee8d22e-f7d1-469d-8b05-36b4c7ba527c",
   "metadata": {},
   "outputs": [
    {
     "name": "stdout",
     "output_type": "stream",
     "text": [
      "{1: 'bool', 2: 'two', 3: 'three', 4: 'four', 6: 'sis', 1.1: 'float', 'nit': 'orga', (1+2j): 'complex'}\n",
      "{1: 'bool', 2: 'two', 3: 'three', 4: 'four', 6: 'sis', 1.1: 'float', 'nit': 'orga', (1+2j): 'complex'}\n"
     ]
    }
   ],
   "source": [
    "print(d1)\n",
    "print(d2)"
   ]
  },
  {
   "cell_type": "code",
   "execution_count": 88,
   "id": "f870d5fb-cb3e-4d15-a822-c646c302ef17",
   "metadata": {},
   "outputs": [],
   "source": [
    "d2.clear()"
   ]
  },
  {
   "cell_type": "code",
   "execution_count": 90,
   "id": "122a0b3b-983f-4ec6-ab5a-50361098c967",
   "metadata": {},
   "outputs": [
    {
     "name": "stdout",
     "output_type": "stream",
     "text": [
      "{1: 'bool', 2: 'two', 3: 'three', 4: 'four', 6: 'sis', 1.1: 'float', 'nit': 'orga', (1+2j): 'complex'}\n",
      "{}\n"
     ]
    }
   ],
   "source": [
    "print(d1)\n",
    "print(d2)"
   ]
  },
  {
   "cell_type": "code",
   "execution_count": 92,
   "id": "521c4970-f4f6-4763-af08-73daa98950d2",
   "metadata": {},
   "outputs": [
    {
     "data": {
      "text/plain": [
       "False"
      ]
     },
     "execution_count": 92,
     "metadata": {},
     "output_type": "execute_result"
    }
   ],
   "source": [
    "d1 == d2"
   ]
  },
  {
   "cell_type": "code",
   "execution_count": 94,
   "id": "d8334747-12bd-4998-b870-6d800c7f4eda",
   "metadata": {},
   "outputs": [],
   "source": [
    "del d2"
   ]
  },
  {
   "cell_type": "code",
   "execution_count": 96,
   "id": "f4b15131-9d38-429d-b128-bf22a32a78b1",
   "metadata": {},
   "outputs": [
    {
     "ename": "NameError",
     "evalue": "name 'd2' is not defined",
     "output_type": "error",
     "traceback": [
      "\u001b[1;31m---------------------------------------------------------------------------\u001b[0m",
      "\u001b[1;31mNameError\u001b[0m                                 Traceback (most recent call last)",
      "Cell \u001b[1;32mIn[96], line 1\u001b[0m\n\u001b[1;32m----> 1\u001b[0m d2\n",
      "\u001b[1;31mNameError\u001b[0m: name 'd2' is not defined"
     ]
    }
   ],
   "source": [
    "d2"
   ]
  },
  {
   "cell_type": "code",
   "execution_count": 98,
   "id": "500ef1cc-d0ac-4c2e-ac72-45c57974ed1a",
   "metadata": {},
   "outputs": [
    {
     "data": {
      "text/plain": [
       "{1: 'bool',\n",
       " 2: 'two',\n",
       " 3: 'three',\n",
       " 4: 'four',\n",
       " 6: 'sis',\n",
       " 1.1: 'float',\n",
       " 'nit': 'orga',\n",
       " (1+2j): 'complex'}"
      ]
     },
     "execution_count": 98,
     "metadata": {},
     "output_type": "execute_result"
    }
   ],
   "source": [
    "d1"
   ]
  },
  {
   "cell_type": "code",
   "execution_count": 100,
   "id": "0525242a-85f7-4e6e-8a98-097030e9d831",
   "metadata": {},
   "outputs": [
    {
     "name": "stdout",
     "output_type": "stream",
     "text": [
      "1\n",
      "2\n",
      "3\n",
      "4\n",
      "6\n",
      "1.1\n",
      "nit\n",
      "(1+2j)\n"
     ]
    }
   ],
   "source": [
    "for i in d1:\n",
    "    print(i)"
   ]
  },
  {
   "cell_type": "code",
   "execution_count": 102,
   "id": "69b4c4d7-3c03-4792-b45f-867e4dd45de3",
   "metadata": {},
   "outputs": [
    {
     "name": "stdout",
     "output_type": "stream",
     "text": [
      "1 : bool\n",
      "2 : two\n",
      "3 : three\n",
      "4 : four\n",
      "6 : sis\n",
      "1.1 : float\n",
      "nit : orga\n",
      "(1+2j) : complex\n"
     ]
    }
   ],
   "source": [
    "for i in d1:\n",
    "    print(i, ':', d1[i])"
   ]
  },
  {
   "cell_type": "code",
   "execution_count": 104,
   "id": "69300b0c-7d87-443c-b679-d8ee48c74c38",
   "metadata": {},
   "outputs": [
    {
     "data": {
      "text/plain": [
       "range(0, 3)"
      ]
     },
     "execution_count": 104,
     "metadata": {},
     "output_type": "execute_result"
    }
   ],
   "source": [
    "range(3)"
   ]
  },
  {
   "cell_type": "code",
   "execution_count": 142,
   "id": "ca07eb27-0be3-4095-be1c-38bc00a1ff62",
   "metadata": {},
   "outputs": [
    {
     "data": {
      "text/plain": [
       "[0, 1, 2]"
      ]
     },
     "execution_count": 142,
     "metadata": {},
     "output_type": "execute_result"
    }
   ],
   "source": [
    "list(range(3))"
   ]
  },
  {
   "cell_type": "code",
   "execution_count": 144,
   "id": "51648772-9a49-4a67-be5f-37edaab8a6bd",
   "metadata": {},
   "outputs": [
    {
     "data": {
      "text/plain": [
       "range(1, 10)"
      ]
     },
     "execution_count": 144,
     "metadata": {},
     "output_type": "execute_result"
    }
   ],
   "source": [
    "range(1, 10)"
   ]
  },
  {
   "cell_type": "code",
   "execution_count": 146,
   "id": "b1fb2499-6a9b-4979-a98f-46bdcf6342fb",
   "metadata": {},
   "outputs": [
    {
     "data": {
      "text/plain": [
       "[0, 1, 2, 3, 4, 5, 6, 7, 8, 9]"
      ]
     },
     "execution_count": 146,
     "metadata": {},
     "output_type": "execute_result"
    }
   ],
   "source": [
    "list(range(10))"
   ]
  },
  {
   "cell_type": "code",
   "execution_count": 110,
   "id": "f73bcb53-789f-4131-8b2c-ab277a2a9df5",
   "metadata": {},
   "outputs": [
    {
     "data": {
      "text/plain": [
       "range(1, 10, 3)"
      ]
     },
     "execution_count": 110,
     "metadata": {},
     "output_type": "execute_result"
    }
   ],
   "source": [
    "range(1,10,3)"
   ]
  },
  {
   "cell_type": "code",
   "execution_count": 108,
   "id": "c6420931-3c44-4c2d-8746-dc610dcc4bb6",
   "metadata": {},
   "outputs": [
    {
     "data": {
      "text/plain": [
       "[1, 4, 7]"
      ]
     },
     "execution_count": 108,
     "metadata": {},
     "output_type": "execute_result"
    }
   ],
   "source": [
    "list(range(1,10,3))"
   ]
  },
  {
   "cell_type": "code",
   "execution_count": 14,
   "id": "65c951f2-8bac-4f6e-b592-041a245907cc",
   "metadata": {},
   "outputs": [
    {
     "data": {
      "text/plain": [
       "[1, 4, 7]"
      ]
     },
     "execution_count": 14,
     "metadata": {},
     "output_type": "execute_result"
    }
   ],
   "source": [
    "list(range(1,10,3))"
   ]
  },
  {
   "cell_type": "code",
   "execution_count": null,
   "id": "9b3cb4bc-ceea-4b96-95b9-090e469fab10",
   "metadata": {},
   "outputs": [],
   "source": []
  }
 ],
 "metadata": {
  "kernelspec": {
   "display_name": "Python 3 (ipykernel)",
   "language": "python",
   "name": "python3"
  },
  "language_info": {
   "codemirror_mode": {
    "name": "ipython",
    "version": 3
   },
   "file_extension": ".py",
   "mimetype": "text/x-python",
   "name": "python",
   "nbconvert_exporter": "python",
   "pygments_lexer": "ipython3",
   "version": "3.12.4"
  }
 },
 "nbformat": 4,
 "nbformat_minor": 5
}
